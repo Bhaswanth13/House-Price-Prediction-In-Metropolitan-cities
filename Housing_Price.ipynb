{
 "cells": [
  {
   "cell_type": "code",
   "execution_count": 13,
   "metadata": {
    "scrolled": true
   },
   "outputs": [
    {
     "data": {
      "text/html": [
       "<div>\n",
       "<style scoped>\n",
       "    .dataframe tbody tr th:only-of-type {\n",
       "        vertical-align: middle;\n",
       "    }\n",
       "\n",
       "    .dataframe tbody tr th {\n",
       "        vertical-align: top;\n",
       "    }\n",
       "\n",
       "    .dataframe thead th {\n",
       "        text-align: right;\n",
       "    }\n",
       "</style>\n",
       "<table border=\"1\" class=\"dataframe\">\n",
       "  <thead>\n",
       "    <tr style=\"text-align: right;\">\n",
       "      <th></th>\n",
       "      <th>area_type</th>\n",
       "      <th>availability</th>\n",
       "      <th>location</th>\n",
       "      <th>size</th>\n",
       "      <th>society</th>\n",
       "      <th>total_sqft</th>\n",
       "      <th>bath</th>\n",
       "      <th>balcony</th>\n",
       "      <th>price</th>\n",
       "    </tr>\n",
       "  </thead>\n",
       "  <tbody>\n",
       "    <tr>\n",
       "      <th>0</th>\n",
       "      <td>Super built-up  Area</td>\n",
       "      <td>19-Dec</td>\n",
       "      <td>Electronic City Phase II</td>\n",
       "      <td>2 BHK</td>\n",
       "      <td>Coomee</td>\n",
       "      <td>1056</td>\n",
       "      <td>2.0</td>\n",
       "      <td>1.0</td>\n",
       "      <td>39.07</td>\n",
       "    </tr>\n",
       "    <tr>\n",
       "      <th>1</th>\n",
       "      <td>Plot  Area</td>\n",
       "      <td>Ready To Move</td>\n",
       "      <td>Chikka Tirupathi</td>\n",
       "      <td>4 Bedroom</td>\n",
       "      <td>Theanmp</td>\n",
       "      <td>2600</td>\n",
       "      <td>5.0</td>\n",
       "      <td>3.0</td>\n",
       "      <td>120.00</td>\n",
       "    </tr>\n",
       "    <tr>\n",
       "      <th>2</th>\n",
       "      <td>Built-up  Area</td>\n",
       "      <td>Ready To Move</td>\n",
       "      <td>Uttarahalli</td>\n",
       "      <td>3 BHK</td>\n",
       "      <td>NaN</td>\n",
       "      <td>1440</td>\n",
       "      <td>2.0</td>\n",
       "      <td>3.0</td>\n",
       "      <td>62.00</td>\n",
       "    </tr>\n",
       "    <tr>\n",
       "      <th>3</th>\n",
       "      <td>Super built-up  Area</td>\n",
       "      <td>Ready To Move</td>\n",
       "      <td>Lingadheeranahalli</td>\n",
       "      <td>3 BHK</td>\n",
       "      <td>Soiewre</td>\n",
       "      <td>1521</td>\n",
       "      <td>3.0</td>\n",
       "      <td>1.0</td>\n",
       "      <td>95.00</td>\n",
       "    </tr>\n",
       "    <tr>\n",
       "      <th>4</th>\n",
       "      <td>Super built-up  Area</td>\n",
       "      <td>Ready To Move</td>\n",
       "      <td>Kothanur</td>\n",
       "      <td>2 BHK</td>\n",
       "      <td>NaN</td>\n",
       "      <td>1200</td>\n",
       "      <td>2.0</td>\n",
       "      <td>1.0</td>\n",
       "      <td>51.00</td>\n",
       "    </tr>\n",
       "  </tbody>\n",
       "</table>\n",
       "</div>"
      ],
      "text/plain": [
       "              area_type   availability                  location       size  \\\n",
       "0  Super built-up  Area         19-Dec  Electronic City Phase II      2 BHK   \n",
       "1            Plot  Area  Ready To Move          Chikka Tirupathi  4 Bedroom   \n",
       "2        Built-up  Area  Ready To Move               Uttarahalli      3 BHK   \n",
       "3  Super built-up  Area  Ready To Move        Lingadheeranahalli      3 BHK   \n",
       "4  Super built-up  Area  Ready To Move                  Kothanur      2 BHK   \n",
       "\n",
       "   society total_sqft  bath  balcony   price  \n",
       "0  Coomee        1056   2.0      1.0   39.07  \n",
       "1  Theanmp       2600   5.0      3.0  120.00  \n",
       "2      NaN       1440   2.0      3.0   62.00  \n",
       "3  Soiewre       1521   3.0      1.0   95.00  \n",
       "4      NaN       1200   2.0      1.0   51.00  "
      ]
     },
     "execution_count": 13,
     "metadata": {},
     "output_type": "execute_result"
    }
   ],
   "source": [
    "import pandas as pd\n",
    "import matplotlib.pyplot as plt\n",
    "%matplotlib inline\n",
    "import matplotlib \n",
    "matplotlib.rcParams[\"figure.figsize\"] = (20,10)\n",
    "import numpy as np\n",
    "import seaborn as sb\n",
    "home=pd.read_csv('C:\\\\Users\\\\BHASWANTH REDDY\\\\Desktop\\\\BangloreHack\\\\Data\\\\train.csv')\n",
    "home.head()"
   ]
  },
  {
   "cell_type": "code",
   "execution_count": 14,
   "metadata": {
    "scrolled": true
   },
   "outputs": [
    {
     "data": {
      "text/plain": [
       "<AxesSubplot:>"
      ]
     },
     "execution_count": 14,
     "metadata": {},
     "output_type": "execute_result"
    },
    {
     "data": {
      "image/png": "[encoded data removed]",
      "text/plain": [
       "<Figure size 720x360 with 2 Axes>"
      ]
     },
     "metadata": {
      "needs_background": "light"
     },
     "output_type": "display_data"
    }
   ],
   "source": [
    "plt.figure(figsize=(10,5))\n",
    "sb.heatmap(home.isnull(),cbar=True,cmap=\"YlGnBu\",yticklabels=False)"
   ]
  },
  {
   "cell_type": "code",
   "execution_count": 21,
   "metadata": {
    "scrolled": false
   },
   "outputs": [
    {
     "data": {
      "text/plain": [
       "area_type     0\n",
       "location      0\n",
       "size          0\n",
       "total_sqft    0\n",
       "bath          0\n",
       "balcony       0\n",
       "price         0\n",
       "dtype: int64"
      ]
     },
     "execution_count": 21,
     "metadata": {},
     "output_type": "execute_result"
    }
   ],
   "source": [
    "home.isnull().sum()"
   ]
  },
  {
   "cell_type": "code",
   "execution_count": 19,
   "metadata": {},
   "outputs": [
    {
     "data": {
      "text/html": [
       "<div>\n",
       "<style scoped>\n",
       "    .dataframe tbody tr th:only-of-type {\n",
       "        vertical-align: middle;\n",
       "    }\n",
       "\n",
       "    .dataframe tbody tr th {\n",
       "        vertical-align: top;\n",
       "    }\n",
       "\n",
       "    .dataframe thead th {\n",
       "        text-align: right;\n",
       "    }\n",
       "</style>\n",
       "<table border=\"1\" class=\"dataframe\">\n",
       "  <thead>\n",
       "    <tr style=\"text-align: right;\">\n",
       "      <th></th>\n",
       "      <th>area_type</th>\n",
       "      <th>location</th>\n",
       "      <th>size</th>\n",
       "      <th>total_sqft</th>\n",
       "      <th>bath</th>\n",
       "      <th>balcony</th>\n",
       "      <th>price</th>\n",
       "    </tr>\n",
       "  </thead>\n",
       "  <tbody>\n",
       "    <tr>\n",
       "      <th>579</th>\n",
       "      <td>Plot  Area</td>\n",
       "      <td>Sarjapur  Road</td>\n",
       "      <td>NaN</td>\n",
       "      <td>1200 - 2400</td>\n",
       "      <td>NaN</td>\n",
       "      <td>NaN</td>\n",
       "      <td>34.185</td>\n",
       "    </tr>\n",
       "    <tr>\n",
       "      <th>1775</th>\n",
       "      <td>Plot  Area</td>\n",
       "      <td>IVC Road</td>\n",
       "      <td>NaN</td>\n",
       "      <td>2000 - 5634</td>\n",
       "      <td>NaN</td>\n",
       "      <td>NaN</td>\n",
       "      <td>124.000</td>\n",
       "    </tr>\n",
       "    <tr>\n",
       "      <th>2264</th>\n",
       "      <td>Plot  Area</td>\n",
       "      <td>Banashankari</td>\n",
       "      <td>NaN</td>\n",
       "      <td>2400</td>\n",
       "      <td>NaN</td>\n",
       "      <td>NaN</td>\n",
       "      <td>460.000</td>\n",
       "    </tr>\n",
       "    <tr>\n",
       "      <th>2809</th>\n",
       "      <td>Plot  Area</td>\n",
       "      <td>Sarjapur  Road</td>\n",
       "      <td>NaN</td>\n",
       "      <td>1200 - 2400</td>\n",
       "      <td>NaN</td>\n",
       "      <td>NaN</td>\n",
       "      <td>28.785</td>\n",
       "    </tr>\n",
       "    <tr>\n",
       "      <th>2862</th>\n",
       "      <td>Plot  Area</td>\n",
       "      <td>Devanahalli</td>\n",
       "      <td>NaN</td>\n",
       "      <td>1500 - 2400</td>\n",
       "      <td>NaN</td>\n",
       "      <td>NaN</td>\n",
       "      <td>46.800</td>\n",
       "    </tr>\n",
       "    <tr>\n",
       "      <th>5333</th>\n",
       "      <td>Plot  Area</td>\n",
       "      <td>Devanahalli</td>\n",
       "      <td>NaN</td>\n",
       "      <td>2100 - 5405</td>\n",
       "      <td>NaN</td>\n",
       "      <td>NaN</td>\n",
       "      <td>177.115</td>\n",
       "    </tr>\n",
       "    <tr>\n",
       "      <th>6423</th>\n",
       "      <td>Plot  Area</td>\n",
       "      <td>Whitefield</td>\n",
       "      <td>NaN</td>\n",
       "      <td>2324</td>\n",
       "      <td>NaN</td>\n",
       "      <td>NaN</td>\n",
       "      <td>26.730</td>\n",
       "    </tr>\n",
       "    <tr>\n",
       "      <th>6636</th>\n",
       "      <td>Plot  Area</td>\n",
       "      <td>Jigani</td>\n",
       "      <td>NaN</td>\n",
       "      <td>1500</td>\n",
       "      <td>NaN</td>\n",
       "      <td>NaN</td>\n",
       "      <td>25.490</td>\n",
       "    </tr>\n",
       "    <tr>\n",
       "      <th>6719</th>\n",
       "      <td>Plot  Area</td>\n",
       "      <td>Hoskote</td>\n",
       "      <td>NaN</td>\n",
       "      <td>800 - 2660</td>\n",
       "      <td>NaN</td>\n",
       "      <td>NaN</td>\n",
       "      <td>28.545</td>\n",
       "    </tr>\n",
       "    <tr>\n",
       "      <th>7680</th>\n",
       "      <td>Plot  Area</td>\n",
       "      <td>Kasavanhalli</td>\n",
       "      <td>NaN</td>\n",
       "      <td>5000</td>\n",
       "      <td>NaN</td>\n",
       "      <td>NaN</td>\n",
       "      <td>400.000</td>\n",
       "    </tr>\n",
       "    <tr>\n",
       "      <th>8306</th>\n",
       "      <td>Plot  Area</td>\n",
       "      <td>Anekal</td>\n",
       "      <td>NaN</td>\n",
       "      <td>1453</td>\n",
       "      <td>NaN</td>\n",
       "      <td>NaN</td>\n",
       "      <td>16.500</td>\n",
       "    </tr>\n",
       "    <tr>\n",
       "      <th>8565</th>\n",
       "      <td>Plot  Area</td>\n",
       "      <td>Carmelaram</td>\n",
       "      <td>NaN</td>\n",
       "      <td>2000</td>\n",
       "      <td>NaN</td>\n",
       "      <td>NaN</td>\n",
       "      <td>120.000</td>\n",
       "    </tr>\n",
       "    <tr>\n",
       "      <th>8703</th>\n",
       "      <td>Plot  Area</td>\n",
       "      <td>Mysore Road</td>\n",
       "      <td>NaN</td>\n",
       "      <td>1200 - 2400</td>\n",
       "      <td>NaN</td>\n",
       "      <td>NaN</td>\n",
       "      <td>42.300</td>\n",
       "    </tr>\n",
       "    <tr>\n",
       "      <th>10634</th>\n",
       "      <td>Plot  Area</td>\n",
       "      <td>Rajankunte</td>\n",
       "      <td>NaN</td>\n",
       "      <td>1575</td>\n",
       "      <td>NaN</td>\n",
       "      <td>NaN</td>\n",
       "      <td>31.110</td>\n",
       "    </tr>\n",
       "    <tr>\n",
       "      <th>11019</th>\n",
       "      <td>Plot  Area</td>\n",
       "      <td>Yelahanka</td>\n",
       "      <td>NaN</td>\n",
       "      <td>1200 - 1800</td>\n",
       "      <td>NaN</td>\n",
       "      <td>NaN</td>\n",
       "      <td>12.750</td>\n",
       "    </tr>\n",
       "    <tr>\n",
       "      <th>11569</th>\n",
       "      <td>Plot  Area</td>\n",
       "      <td>Hosur Road</td>\n",
       "      <td>NaN</td>\n",
       "      <td>1350</td>\n",
       "      <td>NaN</td>\n",
       "      <td>NaN</td>\n",
       "      <td>8.440</td>\n",
       "    </tr>\n",
       "  </tbody>\n",
       "</table>\n",
       "</div>"
      ],
      "text/plain": [
       "        area_type        location size   total_sqft  bath  balcony    price\n",
       "579    Plot  Area  Sarjapur  Road  NaN  1200 - 2400   NaN      NaN   34.185\n",
       "1775   Plot  Area        IVC Road  NaN  2000 - 5634   NaN      NaN  124.000\n",
       "2264   Plot  Area    Banashankari  NaN         2400   NaN      NaN  460.000\n",
       "2809   Plot  Area  Sarjapur  Road  NaN  1200 - 2400   NaN      NaN   28.785\n",
       "2862   Plot  Area     Devanahalli  NaN  1500 - 2400   NaN      NaN   46.800\n",
       "5333   Plot  Area     Devanahalli  NaN  2100 - 5405   NaN      NaN  177.115\n",
       "6423   Plot  Area      Whitefield  NaN         2324   NaN      NaN   26.730\n",
       "6636   Plot  Area          Jigani  NaN         1500   NaN      NaN   25.490\n",
       "6719   Plot  Area         Hoskote  NaN   800 - 2660   NaN      NaN   28.545\n",
       "7680   Plot  Area    Kasavanhalli  NaN         5000   NaN      NaN  400.000\n",
       "8306   Plot  Area          Anekal  NaN         1453   NaN      NaN   16.500\n",
       "8565   Plot  Area      Carmelaram  NaN         2000   NaN      NaN  120.000\n",
       "8703   Plot  Area     Mysore Road  NaN  1200 - 2400   NaN      NaN   42.300\n",
       "10634  Plot  Area      Rajankunte  NaN         1575   NaN      NaN   31.110\n",
       "11019  Plot  Area       Yelahanka  NaN  1200 - 1800   NaN      NaN   12.750\n",
       "11569  Plot  Area      Hosur Road  NaN         1350   NaN      NaN    8.440"
      ]
     },
     "execution_count": 19,
     "metadata": {},
     "output_type": "execute_result"
    }
   ],
   "source": [
    "home[home['size'].isna()]"
   ]
  },
  {
   "cell_type": "code",
   "execution_count": 4,
   "metadata": {
    "scrolled": false
   },
   "outputs": [
    {
     "data": {
      "text/plain": [
       "array([5199, 4310,  826,  591,  547,  538,  329,  297,  191,  105],\n",
       "      dtype=int64)"
      ]
     },
     "execution_count": 4,
     "metadata": {},
     "output_type": "execute_result"
    }
   ],
   "source": [
    "home[['size']].value_counts().values[:10]"
   ]
  },
  {
   "cell_type": "code",
   "execution_count": 15,
   "metadata": {},
   "outputs": [],
   "source": [
    "home=home.drop(columns=['availability','society'],axis=1)"
   ]
  },
  {
   "cell_type": "code",
   "execution_count": 16,
   "metadata": {},
   "outputs": [],
   "source": [
    "home=home[~(home.location.isna())]"
   ]
  },
  {
   "cell_type": "code",
   "execution_count": 8,
   "metadata": {
    "scrolled": true
   },
   "outputs": [
    {
     "data": {
      "text/plain": [
       "Index(['area_type', 'location', 'size', 'total_sqft', 'bath', 'balcony',\n",
       "       'price'],\n",
       "      dtype='object')"
      ]
     },
     "execution_count": 8,
     "metadata": {},
     "output_type": "execute_result"
    }
   ],
   "source": [
    "home.columns"
   ]
  },
  {
   "cell_type": "code",
   "execution_count": 10,
   "metadata": {},
   "outputs": [
    {
     "data": {
      "text/plain": [
       "Super built-up  Area    8789\n",
       "Built-up  Area          2418\n",
       "Plot  Area              2025\n",
       "Carpet  Area              87\n",
       "Name: area_type, dtype: int64"
      ]
     },
     "execution_count": 10,
     "metadata": {},
     "output_type": "execute_result"
    }
   ],
   "source": [
    "home.area_type.value_counts()"
   ]
  },
  {
   "cell_type": "code",
   "execution_count": 535,
   "metadata": {
    "scrolled": false
   },
   "outputs": [
    {
     "data": {
      "text/plain": [
       "2.0    5113\n",
       "1.0    4897\n",
       "3.0    1672\n",
       "0.0    1029\n",
       "Name: balcony, dtype: int64"
      ]
     },
     "execution_count": 535,
     "metadata": {},
     "output_type": "execute_result"
    }
   ],
   "source": [
    "home.balcony.value_counts()"
   ]
  },
  {
   "cell_type": "code",
   "execution_count": 20,
   "metadata": {},
   "outputs": [],
   "source": [
    "home.fillna(value=2,inplace=True)"
   ]
  },
  {
   "cell_type": "code",
   "execution_count": 12,
   "metadata": {
    "scrolled": true
   },
   "outputs": [
    {
     "ename": "AttributeError",
     "evalue": "'list' object has no attribute 'head'",
     "output_type": "error",
     "traceback": [
      "\u001b[1;31m---------------------------------------------------------------------------\u001b[0m",
      "\u001b[1;31mAttributeError\u001b[0m                            Traceback (most recent call last)",
      "\u001b[1;32m<ipython-input-12-ce420d1d5712>\u001b[0m in \u001b[0;36m<module>\u001b[1;34m\u001b[0m\n\u001b[1;32m----> 1\u001b[1;33m \u001b[0mhome\u001b[0m\u001b[1;33m.\u001b[0m\u001b[0mhead\u001b[0m\u001b[1;33m(\u001b[0m\u001b[1;33m)\u001b[0m\u001b[1;33m\u001b[0m\u001b[1;33m\u001b[0m\u001b[0m\n\u001b[0m",
      "\u001b[1;31mAttributeError\u001b[0m: 'list' object has no attribute 'head'"
     ]
    }
   ],
   "source": [
    "home.head()"
   ]
  },
  {
   "cell_type": "code",
   "execution_count": 15,
   "metadata": {
    "scrolled": true
   },
   "outputs": [
    {
     "data": {
      "text/plain": [
       "['2', 'BHK']"
      ]
     },
     "execution_count": 15,
     "metadata": {},
     "output_type": "execute_result"
    }
   ],
   "source": [
    "home['size'][4200].split()"
   ]
  },
  {
   "cell_type": "code",
   "execution_count": 17,
   "metadata": {},
   "outputs": [],
   "source": [
    "home=home[~(home['size'].isna())]"
   ]
  },
  {
   "cell_type": "code",
   "execution_count": 18,
   "metadata": {},
   "outputs": [],
   "source": [
    "home['size']=home['size'].apply(lambda x:x.split()[0])"
   ]
  },
  {
   "cell_type": "code",
   "execution_count": 6,
   "metadata": {},
   "outputs": [],
   "source": [
    "home=home.dropna()"
   ]
  },
  {
   "cell_type": "code",
   "execution_count": 9,
   "metadata": {},
   "outputs": [],
   "source": [
    "def is_float(x):\n",
    "    try:\n",
    "        float(x)\n",
    "    except:\n",
    "        return False\n",
    "    return True"
   ]
  },
  {
   "cell_type": "code",
   "execution_count": 22,
   "metadata": {},
   "outputs": [],
   "source": [
    "def convert_sqft_to_num(x):\n",
    "    tokens = x.split('-')\n",
    "    if len(tokens) == 2:\n",
    "        return (float(tokens[0])+float(tokens[1]))/2\n",
    "    try:\n",
    "        return float(x)\n",
    "    except:\n",
    "        return None"
   ]
  },
  {
   "cell_type": "code",
   "execution_count": 23,
   "metadata": {},
   "outputs": [
    {
     "data": {
      "text/html": [
       "<div>\n",
       "<style scoped>\n",
       "    .dataframe tbody tr th:only-of-type {\n",
       "        vertical-align: middle;\n",
       "    }\n",
       "\n",
       "    .dataframe tbody tr th {\n",
       "        vertical-align: top;\n",
       "    }\n",
       "\n",
       "    .dataframe thead th {\n",
       "        text-align: right;\n",
       "    }\n",
       "</style>\n",
       "<table border=\"1\" class=\"dataframe\">\n",
       "  <thead>\n",
       "    <tr style=\"text-align: right;\">\n",
       "      <th></th>\n",
       "      <th>area_type</th>\n",
       "      <th>location</th>\n",
       "      <th>size</th>\n",
       "      <th>total_sqft</th>\n",
       "      <th>bath</th>\n",
       "      <th>balcony</th>\n",
       "      <th>price</th>\n",
       "    </tr>\n",
       "  </thead>\n",
       "  <tbody>\n",
       "    <tr>\n",
       "      <th>0</th>\n",
       "      <td>Super built-up  Area</td>\n",
       "      <td>Electronic City Phase II</td>\n",
       "      <td>2</td>\n",
       "      <td>1056.0</td>\n",
       "      <td>2.0</td>\n",
       "      <td>1.0</td>\n",
       "      <td>39.07</td>\n",
       "    </tr>\n",
       "    <tr>\n",
       "      <th>1</th>\n",
       "      <td>Plot  Area</td>\n",
       "      <td>Chikka Tirupathi</td>\n",
       "      <td>4</td>\n",
       "      <td>2600.0</td>\n",
       "      <td>5.0</td>\n",
       "      <td>3.0</td>\n",
       "      <td>120.00</td>\n",
       "    </tr>\n",
       "  </tbody>\n",
       "</table>\n",
       "</div>"
      ],
      "text/plain": [
       "              area_type                  location size  total_sqft  bath  \\\n",
       "0  Super built-up  Area  Electronic City Phase II    2      1056.0   2.0   \n",
       "1            Plot  Area          Chikka Tirupathi    4      2600.0   5.0   \n",
       "\n",
       "   balcony   price  \n",
       "0      1.0   39.07  \n",
       "1      3.0  120.00  "
      ]
     },
     "execution_count": 23,
     "metadata": {},
     "output_type": "execute_result"
    }
   ],
   "source": [
    "df4 = home.copy()\n",
    "df4.total_sqft = df4.total_sqft.apply(convert_sqft_to_num)\n",
    "df4 = df4[df4.total_sqft.notnull()]\n",
    "df4.head(2)"
   ]
  },
  {
   "cell_type": "code",
   "execution_count": 11,
   "metadata": {},
   "outputs": [
    {
     "data": {
      "text/html": [
       "<div>\n",
       "<style scoped>\n",
       "    .dataframe tbody tr th:only-of-type {\n",
       "        vertical-align: middle;\n",
       "    }\n",
       "\n",
       "    .dataframe tbody tr th {\n",
       "        vertical-align: top;\n",
       "    }\n",
       "\n",
       "    .dataframe thead th {\n",
       "        text-align: right;\n",
       "    }\n",
       "</style>\n",
       "<table border=\"1\" class=\"dataframe\">\n",
       "  <thead>\n",
       "    <tr style=\"text-align: right;\">\n",
       "      <th></th>\n",
       "      <th>area_type</th>\n",
       "      <th>location</th>\n",
       "      <th>size</th>\n",
       "      <th>total_sqft</th>\n",
       "      <th>bath</th>\n",
       "      <th>balcony</th>\n",
       "      <th>price</th>\n",
       "      <th>price_per_sqft</th>\n",
       "    </tr>\n",
       "  </thead>\n",
       "  <tbody>\n",
       "    <tr>\n",
       "      <th>0</th>\n",
       "      <td>Super built-up  Area</td>\n",
       "      <td>Electronic City Phase II</td>\n",
       "      <td>2</td>\n",
       "      <td>1056.0</td>\n",
       "      <td>2.0</td>\n",
       "      <td>1.0</td>\n",
       "      <td>39.07</td>\n",
       "      <td>3699.810606</td>\n",
       "    </tr>\n",
       "    <tr>\n",
       "      <th>1</th>\n",
       "      <td>Plot  Area</td>\n",
       "      <td>Chikka Tirupathi</td>\n",
       "      <td>4</td>\n",
       "      <td>2600.0</td>\n",
       "      <td>5.0</td>\n",
       "      <td>3.0</td>\n",
       "      <td>120.00</td>\n",
       "      <td>4615.384615</td>\n",
       "    </tr>\n",
       "    <tr>\n",
       "      <th>2</th>\n",
       "      <td>Built-up  Area</td>\n",
       "      <td>Uttarahalli</td>\n",
       "      <td>3</td>\n",
       "      <td>1440.0</td>\n",
       "      <td>2.0</td>\n",
       "      <td>3.0</td>\n",
       "      <td>62.00</td>\n",
       "      <td>4305.555556</td>\n",
       "    </tr>\n",
       "    <tr>\n",
       "      <th>3</th>\n",
       "      <td>Super built-up  Area</td>\n",
       "      <td>Lingadheeranahalli</td>\n",
       "      <td>3</td>\n",
       "      <td>1521.0</td>\n",
       "      <td>3.0</td>\n",
       "      <td>1.0</td>\n",
       "      <td>95.00</td>\n",
       "      <td>6245.890861</td>\n",
       "    </tr>\n",
       "    <tr>\n",
       "      <th>4</th>\n",
       "      <td>Super built-up  Area</td>\n",
       "      <td>Kothanur</td>\n",
       "      <td>2</td>\n",
       "      <td>1200.0</td>\n",
       "      <td>2.0</td>\n",
       "      <td>1.0</td>\n",
       "      <td>51.00</td>\n",
       "      <td>4250.000000</td>\n",
       "    </tr>\n",
       "  </tbody>\n",
       "</table>\n",
       "</div>"
      ],
      "text/plain": [
       "              area_type                  location  size  total_sqft  bath  \\\n",
       "0  Super built-up  Area  Electronic City Phase II     2      1056.0   2.0   \n",
       "1            Plot  Area          Chikka Tirupathi     4      2600.0   5.0   \n",
       "2        Built-up  Area               Uttarahalli     3      1440.0   2.0   \n",
       "3  Super built-up  Area        Lingadheeranahalli     3      1521.0   3.0   \n",
       "4  Super built-up  Area                  Kothanur     2      1200.0   2.0   \n",
       "\n",
       "   balcony   price  price_per_sqft  \n",
       "0      1.0   39.07     3699.810606  \n",
       "1      3.0  120.00     4615.384615  \n",
       "2      3.0   62.00     4305.555556  \n",
       "3      1.0   95.00     6245.890861  \n",
       "4      1.0   51.00     4250.000000  "
      ]
     },
     "execution_count": 11,
     "metadata": {},
     "output_type": "execute_result"
    }
   ],
   "source": [
    "df5 = df4.copy()\n",
    "df5['price_per_sqft'] = df5['price']*100000/df5['total_sqft']\n",
    "df5.head()"
   ]
  },
  {
   "cell_type": "code",
   "execution_count": 24,
   "metadata": {},
   "outputs": [
    {
     "data": {
      "text/plain": [
       "Whitefield              538\n",
       "Sarjapur  Road          397\n",
       "Electronic City         304\n",
       "Kanakpura Road          271\n",
       "Thanisandra             236\n",
       "                       ... \n",
       "Ckikkakammana Halli       1\n",
       "HOSUR RMAIN ROAD          1\n",
       "Hosahalli                 1\n",
       "Uvce Layout               1\n",
       "Maruthi nagar kogilu      1\n",
       "Name: location, Length: 1287, dtype: int64"
      ]
     },
     "execution_count": 24,
     "metadata": {},
     "output_type": "execute_result"
    }
   ],
   "source": [
    "df5 = df4.copy()\n",
    "df5.location = df5.location.apply(lambda x: x.strip())\n",
    "df5.area_type = df5.area_type.apply(lambda x: x.strip())\n",
    "location_stats = df5['location'].value_counts(ascending=False)\n",
    "location_stats"
   ]
  },
  {
   "cell_type": "code",
   "execution_count": 14,
   "metadata": {},
   "outputs": [],
   "source": [
    "from geopy.geocoders import Nominatim"
   ]
  },
  {
   "cell_type": "code",
   "execution_count": 27,
   "metadata": {},
   "outputs": [],
   "source": [
    "location_stats_less_than_10 = location_stats[location_stats<10]"
   ]
  },
  {
   "cell_type": "code",
   "execution_count": 16,
   "metadata": {},
   "outputs": [
    {
     "data": {
      "text/plain": [
       "1001"
      ]
     },
     "execution_count": 16,
     "metadata": {},
     "output_type": "execute_result"
    }
   ],
   "source": [
    "len(location_stats_less_than_10)"
   ]
  },
  {
   "cell_type": "code",
   "execution_count": 28,
   "metadata": {},
   "outputs": [
    {
     "data": {
      "text/plain": [
       "255"
      ]
     },
     "execution_count": 28,
     "metadata": {},
     "output_type": "execute_result"
    }
   ],
   "source": [
    "df5.location = df5.location.apply(lambda x: 'other' if x in location_stats_less_than_10 else x)\n",
    "len(df5.location.unique())"
   ]
  },
  {
   "cell_type": "code",
   "execution_count": 18,
   "metadata": {},
   "outputs": [
    {
     "data": {
      "text/plain": [
       "(12668, 8)"
      ]
     },
     "execution_count": 18,
     "metadata": {},
     "output_type": "execute_result"
    }
   ],
   "source": [
    "df5.shape"
   ]
  },
  {
   "cell_type": "code",
   "execution_count": 29,
   "metadata": {},
   "outputs": [
    {
     "data": {
      "text/plain": [
       "(13257, 7)"
      ]
     },
     "execution_count": 29,
     "metadata": {},
     "output_type": "execute_result"
    }
   ],
   "source": [
    "df6 = df5\n",
    "df6.shape"
   ]
  },
  {
   "cell_type": "code",
   "execution_count": 30,
   "metadata": {},
   "outputs": [
    {
     "data": {
      "text/plain": [
       "(13257, 7)"
      ]
     },
     "execution_count": 30,
     "metadata": {},
     "output_type": "execute_result"
    }
   ],
   "source": [
    "def remove_pps_outliers(df):\n",
    "    df_out = pd.DataFrame()\n",
    "    for key, subdf in df.groupby('location'):\n",
    "        m = np.mean(subdf.price_per_sqft)\n",
    "        st = np.std(subdf.price_per_sqft)\n",
    "        reduced_df = subdf[(subdf.price_per_sqft>(m-2*st)) & (subdf.price_per_sqft<=(m+2*st))]\n",
    "        df_out = pd.concat([df_out,reduced_df],ignore_index=True)\n",
    "    return df_out\n",
    "df7 = df6  #remove_pps_outliers(df6)\n",
    "df7.shape"
   ]
  },
  {
   "cell_type": "code",
   "execution_count": 579,
   "metadata": {},
   "outputs": [
    {
     "data": {
      "image/png": "[encoded data removed]",
      "text/plain": [
       "<Figure size 1080x720 with 1 Axes>"
      ]
     },
     "metadata": {
      "needs_background": "light"
     },
     "output_type": "display_data"
    }
   ],
   "source": [
    "def plot_scatter_chart(df,location):\n",
    "    bhk2 = df[(df.location==location) & (df.bhk==2)]\n",
    "    bhk3 = df[(df.location==location) & (df.bhk==3)]\n",
    "    matplotlib.rcParams['figure.figsize'] = (15,10)\n",
    "    plt.scatter(bhk2.total_sqft,bhk2.price,color='blue',label='2 BHK', s=50)\n",
    "    plt.scatter(bhk3.total_sqft,bhk3.price,marker='+', color='green',label='3 BHK', s=50)\n",
    "    plt.xlabel(\"Total Square Feet Area\")\n",
    "    plt.ylabel(\"Price (Lakh Indian Rupees)\")\n",
    "    plt.title(location)\n",
    "    plt.legend()\n",
    "    \n",
    "plot_scatter_chart(df7,\"Rajaji Nagar\")"
   ]
  },
  {
   "cell_type": "code",
   "execution_count": 358,
   "metadata": {},
   "outputs": [
    {
     "data": {
      "image/png": "[encoded data removed]",
      "text/plain": [
       "<Figure size 1080x720 with 1 Axes>"
      ]
     },
     "metadata": {
      "needs_background": "light"
     },
     "output_type": "display_data"
    }
   ],
   "source": [
    "plot_scatter_chart(df7,\"Hebbal\")"
   ]
  },
  {
   "cell_type": "code",
   "execution_count": 31,
   "metadata": {},
   "outputs": [
    {
     "data": {
      "text/plain": [
       "(13257, 7)"
      ]
     },
     "execution_count": 31,
     "metadata": {},
     "output_type": "execute_result"
    }
   ],
   "source": [
    "\n",
    "def remove_bhk_outliers(df):\n",
    "    exclude_indices = np.array([])\n",
    "    for location, location_df in df.groupby('location'):\n",
    "        bhk_stats = {}\n",
    "        for bhk, bhk_df in location_df.groupby('size'):\n",
    "            bhk_stats[bhk] = {\n",
    "                'mean': np.mean(bhk_df.price_per_sqft),\n",
    "                'std': np.std(bhk_df.price_per_sqft),\n",
    "                'count': bhk_df.shape[0]\n",
    "            }\n",
    "        for bhk, bhk_df in location_df.groupby('size'):\n",
    "            stats = bhk_stats.get(bhk-1)\n",
    "            if stats and stats['count']>50:\n",
    "                exclude_indices = np.append(exclude_indices, bhk_df[bhk_df.price_per_sqft<(stats['mean'])].index.values)\n",
    "    return df.drop(exclude_indices,axis='index')\n",
    "#df8 = remove_bhk_outliers(df7)\n",
    "df8 = df7.copy()\n",
    "df8.shape"
   ]
  },
  {
   "cell_type": "code",
   "execution_count": 32,
   "metadata": {},
   "outputs": [
    {
     "data": {
      "text/plain": [
       "(13257, 7)"
      ]
     },
     "execution_count": 32,
     "metadata": {},
     "output_type": "execute_result"
    }
   ],
   "source": [
    "df9 = df8  #[df8.bath<df8.size+2]\n",
    "df9.shape"
   ]
  },
  {
   "cell_type": "code",
   "execution_count": 33,
   "metadata": {},
   "outputs": [],
   "source": [
    "df10 = df9  #.drop(['price_per_sqft'],axis='columns')"
   ]
  },
  {
   "cell_type": "code",
   "execution_count": 34,
   "metadata": {},
   "outputs": [
    {
     "data": {
      "text/html": [
       "<div>\n",
       "<style scoped>\n",
       "    .dataframe tbody tr th:only-of-type {\n",
       "        vertical-align: middle;\n",
       "    }\n",
       "\n",
       "    .dataframe tbody tr th {\n",
       "        vertical-align: top;\n",
       "    }\n",
       "\n",
       "    .dataframe thead th {\n",
       "        text-align: right;\n",
       "    }\n",
       "</style>\n",
       "<table border=\"1\" class=\"dataframe\">\n",
       "  <thead>\n",
       "    <tr style=\"text-align: right;\">\n",
       "      <th></th>\n",
       "      <th>Built-up  Area</th>\n",
       "      <th>Carpet  Area</th>\n",
       "      <th>Plot  Area</th>\n",
       "      <th>Super built-up  Area</th>\n",
       "    </tr>\n",
       "  </thead>\n",
       "  <tbody>\n",
       "    <tr>\n",
       "      <th>0</th>\n",
       "      <td>0</td>\n",
       "      <td>0</td>\n",
       "      <td>0</td>\n",
       "      <td>1</td>\n",
       "    </tr>\n",
       "    <tr>\n",
       "      <th>1</th>\n",
       "      <td>0</td>\n",
       "      <td>0</td>\n",
       "      <td>1</td>\n",
       "      <td>0</td>\n",
       "    </tr>\n",
       "    <tr>\n",
       "      <th>2</th>\n",
       "      <td>1</td>\n",
       "      <td>0</td>\n",
       "      <td>0</td>\n",
       "      <td>0</td>\n",
       "    </tr>\n",
       "  </tbody>\n",
       "</table>\n",
       "</div>"
      ],
      "text/plain": [
       "   Built-up  Area  Carpet  Area  Plot  Area  Super built-up  Area\n",
       "0               0             0           0                     1\n",
       "1               0             0           1                     0\n",
       "2               1             0           0                     0"
      ]
     },
     "execution_count": 34,
     "metadata": {},
     "output_type": "execute_result"
    }
   ],
   "source": [
    "dummies = pd.get_dummies(df10.area_type)\n",
    "dummies.head(3)"
   ]
  },
  {
   "cell_type": "code",
   "execution_count": 35,
   "metadata": {},
   "outputs": [
    {
     "data": {
      "text/plain": [
       "array(['Built-up  Area', 'Carpet  Area', 'Plot  Area',\n",
       "       'Super built-up  Area'], dtype=object)"
      ]
     },
     "execution_count": 35,
     "metadata": {},
     "output_type": "execute_result"
    }
   ],
   "source": [
    "col1=dummies.columns.values\n",
    "col1"
   ]
  },
  {
   "cell_type": "code",
   "execution_count": 36,
   "metadata": {
    "scrolled": false
   },
   "outputs": [
    {
     "data": {
      "text/html": [
       "<div>\n",
       "<style scoped>\n",
       "    .dataframe tbody tr th:only-of-type {\n",
       "        vertical-align: middle;\n",
       "    }\n",
       "\n",
       "    .dataframe tbody tr th {\n",
       "        vertical-align: top;\n",
       "    }\n",
       "\n",
       "    .dataframe thead th {\n",
       "        text-align: right;\n",
       "    }\n",
       "</style>\n",
       "<table border=\"1\" class=\"dataframe\">\n",
       "  <thead>\n",
       "    <tr style=\"text-align: right;\">\n",
       "      <th></th>\n",
       "      <th>area_type</th>\n",
       "      <th>location</th>\n",
       "      <th>size</th>\n",
       "      <th>total_sqft</th>\n",
       "      <th>bath</th>\n",
       "      <th>balcony</th>\n",
       "      <th>price</th>\n",
       "      <th>Built-up  Area</th>\n",
       "      <th>Carpet  Area</th>\n",
       "      <th>Plot  Area</th>\n",
       "      <th>Super built-up  Area</th>\n",
       "    </tr>\n",
       "  </thead>\n",
       "  <tbody>\n",
       "    <tr>\n",
       "      <th>0</th>\n",
       "      <td>Super built-up  Area</td>\n",
       "      <td>Electronic City Phase II</td>\n",
       "      <td>2</td>\n",
       "      <td>1056.0</td>\n",
       "      <td>2.0</td>\n",
       "      <td>1.0</td>\n",
       "      <td>39.07</td>\n",
       "      <td>0</td>\n",
       "      <td>0</td>\n",
       "      <td>0</td>\n",
       "      <td>1</td>\n",
       "    </tr>\n",
       "    <tr>\n",
       "      <th>1</th>\n",
       "      <td>Plot  Area</td>\n",
       "      <td>Chikka Tirupathi</td>\n",
       "      <td>4</td>\n",
       "      <td>2600.0</td>\n",
       "      <td>5.0</td>\n",
       "      <td>3.0</td>\n",
       "      <td>120.00</td>\n",
       "      <td>0</td>\n",
       "      <td>0</td>\n",
       "      <td>1</td>\n",
       "      <td>0</td>\n",
       "    </tr>\n",
       "    <tr>\n",
       "      <th>2</th>\n",
       "      <td>Built-up  Area</td>\n",
       "      <td>Uttarahalli</td>\n",
       "      <td>3</td>\n",
       "      <td>1440.0</td>\n",
       "      <td>2.0</td>\n",
       "      <td>3.0</td>\n",
       "      <td>62.00</td>\n",
       "      <td>1</td>\n",
       "      <td>0</td>\n",
       "      <td>0</td>\n",
       "      <td>0</td>\n",
       "    </tr>\n",
       "    <tr>\n",
       "      <th>3</th>\n",
       "      <td>Super built-up  Area</td>\n",
       "      <td>Lingadheeranahalli</td>\n",
       "      <td>3</td>\n",
       "      <td>1521.0</td>\n",
       "      <td>3.0</td>\n",
       "      <td>1.0</td>\n",
       "      <td>95.00</td>\n",
       "      <td>0</td>\n",
       "      <td>0</td>\n",
       "      <td>0</td>\n",
       "      <td>1</td>\n",
       "    </tr>\n",
       "    <tr>\n",
       "      <th>4</th>\n",
       "      <td>Super built-up  Area</td>\n",
       "      <td>Kothanur</td>\n",
       "      <td>2</td>\n",
       "      <td>1200.0</td>\n",
       "      <td>2.0</td>\n",
       "      <td>1.0</td>\n",
       "      <td>51.00</td>\n",
       "      <td>0</td>\n",
       "      <td>0</td>\n",
       "      <td>0</td>\n",
       "      <td>1</td>\n",
       "    </tr>\n",
       "  </tbody>\n",
       "</table>\n",
       "</div>"
      ],
      "text/plain": [
       "              area_type                  location size  total_sqft  bath  \\\n",
       "0  Super built-up  Area  Electronic City Phase II    2      1056.0   2.0   \n",
       "1            Plot  Area          Chikka Tirupathi    4      2600.0   5.0   \n",
       "2        Built-up  Area               Uttarahalli    3      1440.0   2.0   \n",
       "3  Super built-up  Area        Lingadheeranahalli    3      1521.0   3.0   \n",
       "4  Super built-up  Area                  Kothanur    2      1200.0   2.0   \n",
       "\n",
       "   balcony   price  Built-up  Area  Carpet  Area  Plot  Area  \\\n",
       "0      1.0   39.07               0             0           0   \n",
       "1      3.0  120.00               0             0           1   \n",
       "2      3.0   62.00               1             0           0   \n",
       "3      1.0   95.00               0             0           0   \n",
       "4      1.0   51.00               0             0           0   \n",
       "\n",
       "   Super built-up  Area  \n",
       "0                     1  \n",
       "1                     0  \n",
       "2                     0  \n",
       "3                     1  \n",
       "4                     1  "
      ]
     },
     "execution_count": 36,
     "metadata": {},
     "output_type": "execute_result"
    }
   ],
   "source": [
    "df11 = pd.concat([df10,dummies],axis='columns')\n",
    "df11.head()"
   ]
  },
  {
   "cell_type": "code",
   "execution_count": 37,
   "metadata": {},
   "outputs": [
    {
     "data": {
      "text/plain": [
       "other                  2733\n",
       "Whitefield              538\n",
       "Sarjapur  Road          397\n",
       "Electronic City         304\n",
       "Kanakpura Road          271\n",
       "                       ... \n",
       "Basapura                 10\n",
       "Kalkere                  10\n",
       "Nagadevanahalli          10\n",
       "Sector 1 HSR Layout      10\n",
       "Ganga Nagar              10\n",
       "Name: location, Length: 255, dtype: int64"
      ]
     },
     "execution_count": 37,
     "metadata": {},
     "output_type": "execute_result"
    }
   ],
   "source": [
    "df11.location.value_counts()"
   ]
  },
  {
   "cell_type": "code",
   "execution_count": 38,
   "metadata": {
    "scrolled": true
   },
   "outputs": [
    {
     "data": {
      "text/html": [
       "<div>\n",
       "<style scoped>\n",
       "    .dataframe tbody tr th:only-of-type {\n",
       "        vertical-align: middle;\n",
       "    }\n",
       "\n",
       "    .dataframe tbody tr th {\n",
       "        vertical-align: top;\n",
       "    }\n",
       "\n",
       "    .dataframe thead th {\n",
       "        text-align: right;\n",
       "    }\n",
       "</style>\n",
       "<table border=\"1\" class=\"dataframe\">\n",
       "  <thead>\n",
       "    <tr style=\"text-align: right;\">\n",
       "      <th></th>\n",
       "      <th>1st Block Jayanagar</th>\n",
       "      <th>1st Block Koramangala</th>\n",
       "      <th>1st Phase JP Nagar</th>\n",
       "      <th>2nd Phase Judicial Layout</th>\n",
       "      <th>2nd Stage Nagarbhavi</th>\n",
       "      <th>5th Block Hbr Layout</th>\n",
       "      <th>5th Phase JP Nagar</th>\n",
       "      <th>6th Phase JP Nagar</th>\n",
       "      <th>7th Phase JP Nagar</th>\n",
       "      <th>8th Phase JP Nagar</th>\n",
       "      <th>...</th>\n",
       "      <th>Vishveshwarya Layout</th>\n",
       "      <th>Vishwapriya Layout</th>\n",
       "      <th>Vittasandra</th>\n",
       "      <th>Whitefield</th>\n",
       "      <th>Yelachenahalli</th>\n",
       "      <th>Yelahanka</th>\n",
       "      <th>Yelahanka New Town</th>\n",
       "      <th>Yelenahalli</th>\n",
       "      <th>Yeshwanthpur</th>\n",
       "      <th>other</th>\n",
       "    </tr>\n",
       "  </thead>\n",
       "  <tbody>\n",
       "    <tr>\n",
       "      <th>0</th>\n",
       "      <td>0</td>\n",
       "      <td>0</td>\n",
       "      <td>0</td>\n",
       "      <td>0</td>\n",
       "      <td>0</td>\n",
       "      <td>0</td>\n",
       "      <td>0</td>\n",
       "      <td>0</td>\n",
       "      <td>0</td>\n",
       "      <td>0</td>\n",
       "      <td>...</td>\n",
       "      <td>0</td>\n",
       "      <td>0</td>\n",
       "      <td>0</td>\n",
       "      <td>0</td>\n",
       "      <td>0</td>\n",
       "      <td>0</td>\n",
       "      <td>0</td>\n",
       "      <td>0</td>\n",
       "      <td>0</td>\n",
       "      <td>0</td>\n",
       "    </tr>\n",
       "    <tr>\n",
       "      <th>1</th>\n",
       "      <td>0</td>\n",
       "      <td>0</td>\n",
       "      <td>0</td>\n",
       "      <td>0</td>\n",
       "      <td>0</td>\n",
       "      <td>0</td>\n",
       "      <td>0</td>\n",
       "      <td>0</td>\n",
       "      <td>0</td>\n",
       "      <td>0</td>\n",
       "      <td>...</td>\n",
       "      <td>0</td>\n",
       "      <td>0</td>\n",
       "      <td>0</td>\n",
       "      <td>0</td>\n",
       "      <td>0</td>\n",
       "      <td>0</td>\n",
       "      <td>0</td>\n",
       "      <td>0</td>\n",
       "      <td>0</td>\n",
       "      <td>0</td>\n",
       "    </tr>\n",
       "    <tr>\n",
       "      <th>2</th>\n",
       "      <td>0</td>\n",
       "      <td>0</td>\n",
       "      <td>0</td>\n",
       "      <td>0</td>\n",
       "      <td>0</td>\n",
       "      <td>0</td>\n",
       "      <td>0</td>\n",
       "      <td>0</td>\n",
       "      <td>0</td>\n",
       "      <td>0</td>\n",
       "      <td>...</td>\n",
       "      <td>0</td>\n",
       "      <td>0</td>\n",
       "      <td>0</td>\n",
       "      <td>0</td>\n",
       "      <td>0</td>\n",
       "      <td>0</td>\n",
       "      <td>0</td>\n",
       "      <td>0</td>\n",
       "      <td>0</td>\n",
       "      <td>0</td>\n",
       "    </tr>\n",
       "    <tr>\n",
       "      <th>3</th>\n",
       "      <td>0</td>\n",
       "      <td>0</td>\n",
       "      <td>0</td>\n",
       "      <td>0</td>\n",
       "      <td>0</td>\n",
       "      <td>0</td>\n",
       "      <td>0</td>\n",
       "      <td>0</td>\n",
       "      <td>0</td>\n",
       "      <td>0</td>\n",
       "      <td>...</td>\n",
       "      <td>0</td>\n",
       "      <td>0</td>\n",
       "      <td>0</td>\n",
       "      <td>0</td>\n",
       "      <td>0</td>\n",
       "      <td>0</td>\n",
       "      <td>0</td>\n",
       "      <td>0</td>\n",
       "      <td>0</td>\n",
       "      <td>0</td>\n",
       "    </tr>\n",
       "    <tr>\n",
       "      <th>4</th>\n",
       "      <td>0</td>\n",
       "      <td>0</td>\n",
       "      <td>0</td>\n",
       "      <td>0</td>\n",
       "      <td>0</td>\n",
       "      <td>0</td>\n",
       "      <td>0</td>\n",
       "      <td>0</td>\n",
       "      <td>0</td>\n",
       "      <td>0</td>\n",
       "      <td>...</td>\n",
       "      <td>0</td>\n",
       "      <td>0</td>\n",
       "      <td>0</td>\n",
       "      <td>0</td>\n",
       "      <td>0</td>\n",
       "      <td>0</td>\n",
       "      <td>0</td>\n",
       "      <td>0</td>\n",
       "      <td>0</td>\n",
       "      <td>0</td>\n",
       "    </tr>\n",
       "    <tr>\n",
       "      <th>...</th>\n",
       "      <td>...</td>\n",
       "      <td>...</td>\n",
       "      <td>...</td>\n",
       "      <td>...</td>\n",
       "      <td>...</td>\n",
       "      <td>...</td>\n",
       "      <td>...</td>\n",
       "      <td>...</td>\n",
       "      <td>...</td>\n",
       "      <td>...</td>\n",
       "      <td>...</td>\n",
       "      <td>...</td>\n",
       "      <td>...</td>\n",
       "      <td>...</td>\n",
       "      <td>...</td>\n",
       "      <td>...</td>\n",
       "      <td>...</td>\n",
       "      <td>...</td>\n",
       "      <td>...</td>\n",
       "      <td>...</td>\n",
       "      <td>...</td>\n",
       "    </tr>\n",
       "    <tr>\n",
       "      <th>13315</th>\n",
       "      <td>0</td>\n",
       "      <td>0</td>\n",
       "      <td>0</td>\n",
       "      <td>0</td>\n",
       "      <td>0</td>\n",
       "      <td>0</td>\n",
       "      <td>0</td>\n",
       "      <td>0</td>\n",
       "      <td>0</td>\n",
       "      <td>0</td>\n",
       "      <td>...</td>\n",
       "      <td>0</td>\n",
       "      <td>0</td>\n",
       "      <td>0</td>\n",
       "      <td>1</td>\n",
       "      <td>0</td>\n",
       "      <td>0</td>\n",
       "      <td>0</td>\n",
       "      <td>0</td>\n",
       "      <td>0</td>\n",
       "      <td>0</td>\n",
       "    </tr>\n",
       "    <tr>\n",
       "      <th>13316</th>\n",
       "      <td>0</td>\n",
       "      <td>0</td>\n",
       "      <td>0</td>\n",
       "      <td>0</td>\n",
       "      <td>0</td>\n",
       "      <td>0</td>\n",
       "      <td>0</td>\n",
       "      <td>0</td>\n",
       "      <td>0</td>\n",
       "      <td>0</td>\n",
       "      <td>...</td>\n",
       "      <td>0</td>\n",
       "      <td>0</td>\n",
       "      <td>0</td>\n",
       "      <td>0</td>\n",
       "      <td>0</td>\n",
       "      <td>0</td>\n",
       "      <td>0</td>\n",
       "      <td>0</td>\n",
       "      <td>0</td>\n",
       "      <td>1</td>\n",
       "    </tr>\n",
       "    <tr>\n",
       "      <th>13317</th>\n",
       "      <td>0</td>\n",
       "      <td>0</td>\n",
       "      <td>0</td>\n",
       "      <td>0</td>\n",
       "      <td>0</td>\n",
       "      <td>0</td>\n",
       "      <td>0</td>\n",
       "      <td>0</td>\n",
       "      <td>0</td>\n",
       "      <td>0</td>\n",
       "      <td>...</td>\n",
       "      <td>0</td>\n",
       "      <td>0</td>\n",
       "      <td>0</td>\n",
       "      <td>0</td>\n",
       "      <td>0</td>\n",
       "      <td>0</td>\n",
       "      <td>0</td>\n",
       "      <td>0</td>\n",
       "      <td>0</td>\n",
       "      <td>0</td>\n",
       "    </tr>\n",
       "    <tr>\n",
       "      <th>13318</th>\n",
       "      <td>0</td>\n",
       "      <td>0</td>\n",
       "      <td>0</td>\n",
       "      <td>0</td>\n",
       "      <td>0</td>\n",
       "      <td>0</td>\n",
       "      <td>0</td>\n",
       "      <td>0</td>\n",
       "      <td>0</td>\n",
       "      <td>0</td>\n",
       "      <td>...</td>\n",
       "      <td>0</td>\n",
       "      <td>0</td>\n",
       "      <td>0</td>\n",
       "      <td>0</td>\n",
       "      <td>0</td>\n",
       "      <td>0</td>\n",
       "      <td>0</td>\n",
       "      <td>0</td>\n",
       "      <td>0</td>\n",
       "      <td>0</td>\n",
       "    </tr>\n",
       "    <tr>\n",
       "      <th>13319</th>\n",
       "      <td>0</td>\n",
       "      <td>0</td>\n",
       "      <td>0</td>\n",
       "      <td>0</td>\n",
       "      <td>0</td>\n",
       "      <td>0</td>\n",
       "      <td>0</td>\n",
       "      <td>0</td>\n",
       "      <td>0</td>\n",
       "      <td>0</td>\n",
       "      <td>...</td>\n",
       "      <td>0</td>\n",
       "      <td>0</td>\n",
       "      <td>0</td>\n",
       "      <td>0</td>\n",
       "      <td>0</td>\n",
       "      <td>0</td>\n",
       "      <td>0</td>\n",
       "      <td>0</td>\n",
       "      <td>0</td>\n",
       "      <td>0</td>\n",
       "    </tr>\n",
       "  </tbody>\n",
       "</table>\n",
       "<p>13257 rows × 255 columns</p>\n",
       "</div>"
      ],
      "text/plain": [
       "       1st Block Jayanagar  1st Block Koramangala  1st Phase JP Nagar  \\\n",
       "0                        0                      0                   0   \n",
       "1                        0                      0                   0   \n",
       "2                        0                      0                   0   \n",
       "3                        0                      0                   0   \n",
       "4                        0                      0                   0   \n",
       "...                    ...                    ...                 ...   \n",
       "13315                    0                      0                   0   \n",
       "13316                    0                      0                   0   \n",
       "13317                    0                      0                   0   \n",
       "13318                    0                      0                   0   \n",
       "13319                    0                      0                   0   \n",
       "\n",
       "       2nd Phase Judicial Layout  2nd Stage Nagarbhavi  5th Block Hbr Layout  \\\n",
       "0                              0                     0                     0   \n",
       "1                              0                     0                     0   \n",
       "2                              0                     0                     0   \n",
       "3                              0                     0                     0   \n",
       "4                              0                     0                     0   \n",
       "...                          ...                   ...                   ...   \n",
       "13315                          0                     0                     0   \n",
       "13316                          0                     0                     0   \n",
       "13317                          0                     0                     0   \n",
       "13318                          0                     0                     0   \n",
       "13319                          0                     0                     0   \n",
       "\n",
       "       5th Phase JP Nagar  6th Phase JP Nagar  7th Phase JP Nagar  \\\n",
       "0                       0                   0                   0   \n",
       "1                       0                   0                   0   \n",
       "2                       0                   0                   0   \n",
       "3                       0                   0                   0   \n",
       "4                       0                   0                   0   \n",
       "...                   ...                 ...                 ...   \n",
       "13315                   0                   0                   0   \n",
       "13316                   0                   0                   0   \n",
       "13317                   0                   0                   0   \n",
       "13318                   0                   0                   0   \n",
       "13319                   0                   0                   0   \n",
       "\n",
       "       8th Phase JP Nagar  ...  Vishveshwarya Layout  Vishwapriya Layout  \\\n",
       "0                       0  ...                     0                   0   \n",
       "1                       0  ...                     0                   0   \n",
       "2                       0  ...                     0                   0   \n",
       "3                       0  ...                     0                   0   \n",
       "4                       0  ...                     0                   0   \n",
       "...                   ...  ...                   ...                 ...   \n",
       "13315                   0  ...                     0                   0   \n",
       "13316                   0  ...                     0                   0   \n",
       "13317                   0  ...                     0                   0   \n",
       "13318                   0  ...                     0                   0   \n",
       "13319                   0  ...                     0                   0   \n",
       "\n",
       "       Vittasandra  Whitefield  Yelachenahalli  Yelahanka  Yelahanka New Town  \\\n",
       "0                0           0               0          0                   0   \n",
       "1                0           0               0          0                   0   \n",
       "2                0           0               0          0                   0   \n",
       "3                0           0               0          0                   0   \n",
       "4                0           0               0          0                   0   \n",
       "...            ...         ...             ...        ...                 ...   \n",
       "13315            0           1               0          0                   0   \n",
       "13316            0           0               0          0                   0   \n",
       "13317            0           0               0          0                   0   \n",
       "13318            0           0               0          0                   0   \n",
       "13319            0           0               0          0                   0   \n",
       "\n",
       "       Yelenahalli  Yeshwanthpur  other  \n",
       "0                0             0      0  \n",
       "1                0             0      0  \n",
       "2                0             0      0  \n",
       "3                0             0      0  \n",
       "4                0             0      0  \n",
       "...            ...           ...    ...  \n",
       "13315            0             0      0  \n",
       "13316            0             0      1  \n",
       "13317            0             0      0  \n",
       "13318            0             0      0  \n",
       "13319            0             0      0  \n",
       "\n",
       "[13257 rows x 255 columns]"
      ]
     },
     "execution_count": 38,
     "metadata": {},
     "output_type": "execute_result"
    }
   ],
   "source": [
    "dum=pd.get_dummies(df11.location)\n",
    "dum"
   ]
  },
  {
   "cell_type": "code",
   "execution_count": 39,
   "metadata": {},
   "outputs": [],
   "source": [
    "col2=dum.columns.values"
   ]
  },
  {
   "cell_type": "code",
   "execution_count": 40,
   "metadata": {},
   "outputs": [
    {
     "data": {
      "text/html": [
       "<div>\n",
       "<style scoped>\n",
       "    .dataframe tbody tr th:only-of-type {\n",
       "        vertical-align: middle;\n",
       "    }\n",
       "\n",
       "    .dataframe tbody tr th {\n",
       "        vertical-align: top;\n",
       "    }\n",
       "\n",
       "    .dataframe thead th {\n",
       "        text-align: right;\n",
       "    }\n",
       "</style>\n",
       "<table border=\"1\" class=\"dataframe\">\n",
       "  <thead>\n",
       "    <tr style=\"text-align: right;\">\n",
       "      <th></th>\n",
       "      <th>area_type</th>\n",
       "      <th>location</th>\n",
       "      <th>size</th>\n",
       "      <th>total_sqft</th>\n",
       "      <th>bath</th>\n",
       "      <th>balcony</th>\n",
       "      <th>price</th>\n",
       "      <th>Built-up  Area</th>\n",
       "      <th>Carpet  Area</th>\n",
       "      <th>Plot  Area</th>\n",
       "      <th>...</th>\n",
       "      <th>Vishveshwarya Layout</th>\n",
       "      <th>Vishwapriya Layout</th>\n",
       "      <th>Vittasandra</th>\n",
       "      <th>Whitefield</th>\n",
       "      <th>Yelachenahalli</th>\n",
       "      <th>Yelahanka</th>\n",
       "      <th>Yelahanka New Town</th>\n",
       "      <th>Yelenahalli</th>\n",
       "      <th>Yeshwanthpur</th>\n",
       "      <th>other</th>\n",
       "    </tr>\n",
       "  </thead>\n",
       "  <tbody>\n",
       "    <tr>\n",
       "      <th>0</th>\n",
       "      <td>Super built-up  Area</td>\n",
       "      <td>Electronic City Phase II</td>\n",
       "      <td>2</td>\n",
       "      <td>1056.0</td>\n",
       "      <td>2.0</td>\n",
       "      <td>1.0</td>\n",
       "      <td>39.07</td>\n",
       "      <td>0</td>\n",
       "      <td>0</td>\n",
       "      <td>0</td>\n",
       "      <td>...</td>\n",
       "      <td>0</td>\n",
       "      <td>0</td>\n",
       "      <td>0</td>\n",
       "      <td>0</td>\n",
       "      <td>0</td>\n",
       "      <td>0</td>\n",
       "      <td>0</td>\n",
       "      <td>0</td>\n",
       "      <td>0</td>\n",
       "      <td>0</td>\n",
       "    </tr>\n",
       "    <tr>\n",
       "      <th>1</th>\n",
       "      <td>Plot  Area</td>\n",
       "      <td>Chikka Tirupathi</td>\n",
       "      <td>4</td>\n",
       "      <td>2600.0</td>\n",
       "      <td>5.0</td>\n",
       "      <td>3.0</td>\n",
       "      <td>120.00</td>\n",
       "      <td>0</td>\n",
       "      <td>0</td>\n",
       "      <td>1</td>\n",
       "      <td>...</td>\n",
       "      <td>0</td>\n",
       "      <td>0</td>\n",
       "      <td>0</td>\n",
       "      <td>0</td>\n",
       "      <td>0</td>\n",
       "      <td>0</td>\n",
       "      <td>0</td>\n",
       "      <td>0</td>\n",
       "      <td>0</td>\n",
       "      <td>0</td>\n",
       "    </tr>\n",
       "    <tr>\n",
       "      <th>2</th>\n",
       "      <td>Built-up  Area</td>\n",
       "      <td>Uttarahalli</td>\n",
       "      <td>3</td>\n",
       "      <td>1440.0</td>\n",
       "      <td>2.0</td>\n",
       "      <td>3.0</td>\n",
       "      <td>62.00</td>\n",
       "      <td>1</td>\n",
       "      <td>0</td>\n",
       "      <td>0</td>\n",
       "      <td>...</td>\n",
       "      <td>0</td>\n",
       "      <td>0</td>\n",
       "      <td>0</td>\n",
       "      <td>0</td>\n",
       "      <td>0</td>\n",
       "      <td>0</td>\n",
       "      <td>0</td>\n",
       "      <td>0</td>\n",
       "      <td>0</td>\n",
       "      <td>0</td>\n",
       "    </tr>\n",
       "    <tr>\n",
       "      <th>3</th>\n",
       "      <td>Super built-up  Area</td>\n",
       "      <td>Lingadheeranahalli</td>\n",
       "      <td>3</td>\n",
       "      <td>1521.0</td>\n",
       "      <td>3.0</td>\n",
       "      <td>1.0</td>\n",
       "      <td>95.00</td>\n",
       "      <td>0</td>\n",
       "      <td>0</td>\n",
       "      <td>0</td>\n",
       "      <td>...</td>\n",
       "      <td>0</td>\n",
       "      <td>0</td>\n",
       "      <td>0</td>\n",
       "      <td>0</td>\n",
       "      <td>0</td>\n",
       "      <td>0</td>\n",
       "      <td>0</td>\n",
       "      <td>0</td>\n",
       "      <td>0</td>\n",
       "      <td>0</td>\n",
       "    </tr>\n",
       "    <tr>\n",
       "      <th>4</th>\n",
       "      <td>Super built-up  Area</td>\n",
       "      <td>Kothanur</td>\n",
       "      <td>2</td>\n",
       "      <td>1200.0</td>\n",
       "      <td>2.0</td>\n",
       "      <td>1.0</td>\n",
       "      <td>51.00</td>\n",
       "      <td>0</td>\n",
       "      <td>0</td>\n",
       "      <td>0</td>\n",
       "      <td>...</td>\n",
       "      <td>0</td>\n",
       "      <td>0</td>\n",
       "      <td>0</td>\n",
       "      <td>0</td>\n",
       "      <td>0</td>\n",
       "      <td>0</td>\n",
       "      <td>0</td>\n",
       "      <td>0</td>\n",
       "      <td>0</td>\n",
       "      <td>0</td>\n",
       "    </tr>\n",
       "  </tbody>\n",
       "</table>\n",
       "<p>5 rows × 266 columns</p>\n",
       "</div>"
      ],
      "text/plain": [
       "              area_type                  location size  total_sqft  bath  \\\n",
       "0  Super built-up  Area  Electronic City Phase II    2      1056.0   2.0   \n",
       "1            Plot  Area          Chikka Tirupathi    4      2600.0   5.0   \n",
       "2        Built-up  Area               Uttarahalli    3      1440.0   2.0   \n",
       "3  Super built-up  Area        Lingadheeranahalli    3      1521.0   3.0   \n",
       "4  Super built-up  Area                  Kothanur    2      1200.0   2.0   \n",
       "\n",
       "   balcony   price  Built-up  Area  Carpet  Area  Plot  Area  ...  \\\n",
       "0      1.0   39.07               0             0           0  ...   \n",
       "1      3.0  120.00               0             0           1  ...   \n",
       "2      3.0   62.00               1             0           0  ...   \n",
       "3      1.0   95.00               0             0           0  ...   \n",
       "4      1.0   51.00               0             0           0  ...   \n",
       "\n",
       "   Vishveshwarya Layout  Vishwapriya Layout  Vittasandra  Whitefield  \\\n",
       "0                     0                   0            0           0   \n",
       "1                     0                   0            0           0   \n",
       "2                     0                   0            0           0   \n",
       "3                     0                   0            0           0   \n",
       "4                     0                   0            0           0   \n",
       "\n",
       "   Yelachenahalli  Yelahanka  Yelahanka New Town  Yelenahalli  Yeshwanthpur  \\\n",
       "0               0          0                   0            0             0   \n",
       "1               0          0                   0            0             0   \n",
       "2               0          0                   0            0             0   \n",
       "3               0          0                   0            0             0   \n",
       "4               0          0                   0            0             0   \n",
       "\n",
       "   other  \n",
       "0      0  \n",
       "1      0  \n",
       "2      0  \n",
       "3      0  \n",
       "4      0  \n",
       "\n",
       "[5 rows x 266 columns]"
      ]
     },
     "execution_count": 40,
     "metadata": {},
     "output_type": "execute_result"
    }
   ],
   "source": [
    "df=pd.concat([df11,dum],axis=1)\n",
    "df.head()"
   ]
  },
  {
   "cell_type": "code",
   "execution_count": 27,
   "metadata": {},
   "outputs": [],
   "source": [
    "geolocator = Nominatim(user_agent=\"Ruch\")\n",
    "def feature_generation(df):\n",
    "    d=dict()\n",
    "    a=[]\n",
    "    b=[]\n",
    "    c=0\n",
    "    for i in df['location']: \n",
    "        if(d.get(i)!=None):\n",
    "            a.append(d[i][0])\n",
    "            b.append(d[i][1])\n",
    "            continue\n",
    "        location = geolocator.geocode(i)\n",
    "        c+=1\n",
    "        if(location==None):\n",
    "            d[i]=[-1,-1]\n",
    "            a.append(d[i][0])\n",
    "            b.append(d[i][1])\n",
    "            continue\n",
    "        d[i]=[location.latitude,location.longitude]\n",
    "        a.append(d[i][0])\n",
    "        b.append(d[i][1])\n",
    "    df['Latitude']=a\n",
    "    df['Longitude']=b\n",
    "    return (df,d)"
   ]
  },
  {
   "cell_type": "code",
   "execution_count": 29,
   "metadata": {
    "scrolled": true
   },
   "outputs": [
    {
     "name": "stdout",
     "output_type": "stream",
     "text": [
      "1 Jayanagar, Rashtriya Vidyalaya Road, Jayanagar 8th Block, Pattabhiram Nagar, South Zone, Bengaluru, Bangalore South, Bangalore Urban, Karnataka, - 560011, India\n",
      "2 1st Cross Road, Koramangala 2nd Block, Koramangala, South Zone, Bengaluru, Bangalore South, Bangalore Urban, Karnataka, 560034, India\n",
      "3 BangaloreOne, JP Nagar, 13th Cross Road, J P Nagar, JP Nagar 1st Phase, South Zone, Bengaluru, Bangalore South, Bangalore Urban, Karnataka, 560 078, India\n",
      "4 2nd Main Road, Thalaghattapura, Hemmigepura, Rajarajeshwari Nagar Zone, Bengaluru, Bangalore South, Bangalore Urban, Karnataka, 560108, India\n",
      "5 None\n",
      "6 1st Cross Road, Sarakki, JP Nagar 1st Phase, Jayanagar 8th Block, Shakambari Nagar, South Zone, Bengaluru, Bangalore South, Bangalore Urban, Karnataka, 5600011, India\n",
      "7 6th Main Road, JP Nagar 2nd Phase, J P Nagar, South Zone, Bengaluru, Bangalore South, Bangalore Urban, Karnataka, 560069, India\n",
      "8 7th Main Road, JP Nagar 2nd Phase, J P Nagar, South Zone, Bengaluru, Bangalore South, Bangalore Urban, Karnataka, 560069, India\n",
      "9 1st Cross Road, Sarakki, JP Nagar 1st Phase, Jayanagar 8th Block, Shakambari Nagar, South Zone, Bengaluru, Bangalore South, Bangalore Urban, Karnataka, 5600011, India\n",
      "10 Sarakki Main Road (9th Cross), JP Nagar 2nd Phase, J P Nagar, South Zone, Bengaluru, Bangalore South, Bangalore Urban, Karnataka, 560069, India\n",
      "11 AECS Layout, Dodda Nekkundi, Mahadevapura Zone, Bengaluru, Bangalore East, Bangalore Urban, Karnataka, 56006, India\n",
      "12 Abbigere, Shettihalli, Dasarahalli Zone, Bengaluru, Bangalore North, Bangalore Urban, Karnataka, 560015, India\n",
      "13 Akshaya Nagar, Ramamurthy Nagar, Mahadevapura Zone, Bengaluru, Bangalore East, Bangalore Urban, Karnataka, 560036, India\n",
      "14 Ambalipura, Bellanduru, Mahadevapura Zone, Bengaluru, Bangalore South, Bangalore Urban, Karnataka, 530103, India\n",
      "15 Ambedkar Nagar, Uttar Pradesh, India\n",
      "16 State Bank of India Amruthahalli Branch, Amrutahalli Main Road, Amrutahalli, Byatarayanapura, Yelahanka Zone, Bengaluru, Bangalore North, Bangalore Urban, Karnataka, 560092, India\n",
      "17 Anandapura, Sagara taluk, Shimoga district, Karnataka, 577412, India\n",
      "18 Ananth Arcade apartment, 2-3-364/2/1, Sainagar road no 7, Abhaya Oldage Home, Ward 11 Nagole, Greater Hyderabad Municipal Corporation East Zone, Hyderabad, Uppal mandal, Medchal–Malkajgiri, Telangana, 500068, India\n",
      "19 Anekal, Bangalore Urban, Karnataka, India\n",
      "20 Anjanapura, Ramanagara taluk, Ramanagara district, Karnataka, 562159, India\n",
      "21 MIMS Ardendale Villas and Row Houses, Kannamangala, Bangalore East, Bangalore Urban, Karnataka, India\n",
      "22 Arekere, Arakere, Bommanahalli Zone, Bengaluru, Bangalore South, Bangalore Urban, Karnataka, 560076, India\n",
      "23 Attibele, Anekal, Bangalore Urban, Karnataka, 562107, India\n",
      "24 BEML Layout, Dodda Nekkundi, Mahadevapura Zone, Bengaluru, Bangalore East, Bangalore Urban, Karnataka, India\n",
      "25 BTM 2nd Stage, BTM Layout Ward, South Zone, Bengaluru, Bangalore South, Bangalore Urban, Karnataka, - 560034, India\n",
      "26 BTM Layout, BTM Layout Ward, South Zone, Bengaluru, Bangalore South, Bangalore Urban, Karnataka, - 560034, India\n",
      "27 None\n",
      "28 None\n",
      "29 Balagere, Bangarapet taluk, Kolar district, Karnataka, India\n",
      "30 Banashankari, Badami taluku, Bagalkote district, Karnataka, 587200, India\n",
      "31 Banashankari, Badami taluku, Bagalkote district, Karnataka, 587200, India\n",
      "32 30th Main road, Banashankari 2nd Stage, Banashankari 2nd Stage, Ganesh Mandir ward, South Zone, Bengaluru, Bangalore South, Bangalore Urban, Karnataka, - 560027, India\n",
      "33 30th Main road, Banashankari 2nd Stage, Banashankari 2nd Stage, Ganesh Mandir ward, South Zone, Bengaluru, Bangalore South, Bangalore Urban, Karnataka, - 560027, India\n",
      "34 Vi Ra's Bar and Restaurant, 3828, 30th Main road, Banashankari 2nd Stage, Banashankari 2nd Stage, Ganesh Mandir ward, South Zone, Bengaluru, Bangalore South, Bangalore Urban, Karnataka, 560070, India\n",
      "35 Banaswadi, Banasavadi, East Zone, Bengaluru, Bangalore East, Bangalore Urban, Karnataka, 560043, India\n",
      "36 Banjara Layout, Banjara Layout Main Road, Jayantinagara, Ramamurthy Nagar, Mahadevapura Zone, Bengaluru, Bangalore East, Bangalore Urban, Karnataka, 560113, India\n",
      "37 Bannerghatta National Park, Anchetty, Krishnagiri District, Tamil Nadu, India\n",
      "38 Bannerghatta Road, MICO Layout, BTM Layout Ward, South Zone, Bengaluru, Bangalore South, Bangalore Urban, Karnataka, 560069, India\n",
      "39 Basapura, Lingasuguru taluku, Raichur district, Karnataka, India\n",
      "40 Basavangudi Police Station, Krishna Rajendra Road, VV Puram, Jayanagar Ward, South Zone, Bengaluru, Bangalore North, Bangalore Urban, Karnataka, 560004, India\n",
      "41 The Raymond Shop, Siddhaiah Puranik Road, Dasarahalli, Agrahara Dasarahalli Ward, West Zone, Bengaluru, Bangalore North, Bangalore Urban, Karnataka, 79, India\n",
      "42 None\n",
      "43 Begur, Baix Empordà, Girona, Catalunya, 17213, España\n",
      "44 Begur Road, Beguru, Begur, Bommanahalli Zone, Bengaluru, Bangalore South, Bangalore Urban, Karnataka, - 560068, India\n",
      "45 Bellandur Lake, Mahadevapura Zone, Bengaluru, Bangalore East, Bangalore Urban, Karnataka, India\n",
      "46 Benson Town, Jayamahal Ward, East Zone, Bengaluru, Bangalore North, Bangalore Urban, Karnataka, 560046, India\n",
      "47 Bharathi Nagar, Hunasamaranahalli, Bangalore North, Bangalore Urban, Karnataka, India\n",
      "48 None\n",
      "49 None\n",
      "50 None\n",
      "51 None\n",
      "52 Bommanahalli, Bommanahalli Ward, Bommanahalli Zone, Bengaluru, Bangalore South, Bangalore Urban, Karnataka, 380068, India\n",
      "53 Bommasandra, Anekal, Bangalore Urban, Karnataka, 560099, India\n",
      "54 Bommasandra, Anekal, Bangalore Urban, Karnataka, 560099, India\n",
      "55 Bommenahalli, Turuvekere taluk, Tumkur district, Karnataka, 572212, India\n",
      "56 Brookefield Estates, Horry County, South Carolina, 29576, United States\n",
      "57 Budigere, Devanahalli taluk, Bangalore Rural, Karnataka, 562129, India\n",
      "58 CV Raman, Wyra Road, Indira Nagar, Tekulapally, Khammam_Urban mandal, Khammam, Telangana, 507002, India\n",
      "59 Chamrajpet 5th Main Road, Sunkenahalli Ward, South Zone, Bengaluru, Bangalore North, Bangalore Urban, Karnataka, 560 002, India\n",
      "60 Chandapura, Chincholi taluku, Kalaburagi district, Karnataka, 585307, India\n",
      "61 Channasandra, Kolar taluk, Kolar district, Karnataka, India\n",
      "62 Chikka Tirupathi, Dabaspete - Hosur Highway, Chikkatirupati, Maluru taluk, Kolar district, Karnataka, India\n",
      "63 Ujjivan Small Finance Bank Chikkabanavar Branch, Abbigere Main Road, HP Petrol bunk, Shettihalli, Dasarahalli Zone, Bengaluru, Bangalore North, Bangalore Urban, Karnataka, 560090, India\n",
      "64 Chikkalasandra, Vasanthpura Ward, Bommanahalli Zone, Bengaluru, Bangalore South, Bangalore Urban, Karnataka, 560061, India\n",
      "65 Choodasandra, Bangalore East, Bangalore Urban, Karnataka, 560035, India\n",
      "66 Cooke Town, Maruthi Seva Nagar, East Zone, Bengaluru, Bangalore North, Bangalore Urban, Karnataka, 560084, India\n",
      "67 Cox Town, Sarvagna Nagar, East Zone, Bengaluru, Bangalore North, Bangalore Urban, Karnataka, 56005, India\n",
      "68 Cunningham Road, Cunningham, Clarke County, Alabama, 36727, United States\n",
      "69 Dairy Circle, Cumru Township, Berks County, Pennsylvania, 19607, United States\n",
      "70 Dasanapura, Bangalore North, Bangalore Urban, Karnataka, 562162, India\n",
      "71 Dasarahalli, Hosakote taluk, Bangalore Rural, Karnataka, 560164, India\n",
      "72 Devanahalli, Devanahalli taluk, Bangalore Rural, Karnataka, 562110, India\n",
      "73 Devarachikkanahalli Road, Kodichikkanahalli, Bilekahalli, Bommanahalli Zone, Bengaluru, Bangalore South, Bangalore Urban, Karnataka, - 560076, India\n",
      "74 Dodda Nekkundi, Mahadevapura Zone, Bengaluru, Bangalore East, Bangalore Urban, Karnataka, India\n",
      "75 Doddaballapura, Doddaballapura taluk, Bangalore Rural, Karnataka, 561203, India\n",
      "76 Doddakallasandra, Kanakapura Road, Singapore Gardens, Vasanthapura, Bommanahalli Zone, Bengaluru, Bangalore South, Bangalore Urban, Karnataka, 560062, India\n",
      "77 Doddathoguru, Electronics City Phase 1, Bangalore South, Bangalore Urban, Karnataka, 560 100, India\n",
      "78 Domlur, Domlur Ward, East Zone, Bengaluru, Bangalore North, Bangalore Urban, Karnataka, 560071, India\n",
      "79 Dommasandra, Mulubagilu taluk, Kolar district, Karnataka, India\n",
      "80 EPIP Zone, Garudachara Palya, Mahadevapura Zone, Bengaluru, Bangalore East, Bangalore Urban, Karnataka, 560066, India\n",
      "81 Electronic City, Jalan Bypass Gatot Subroto, Dauh Puri Kaja, Denpasar Utara, Denpasar, Bali, 80115, Indonesia\n",
      "82 Electronics City Phase 2 (East), Bangalore South, Bangalore Urban, Karnataka, 560100, India\n",
      "83 Electronics City Phase 1, Bangalore South, Bangalore Urban, Karnataka, 560100, India\n",
      "84 Frazer Town, Pulikeshinagar, East Zone, Bengaluru, Bangalore North, Bangalore Urban, Karnataka, 56005, India\n",
      "85 None\n",
      "86 Ganga Nagar, Gangenahalli, East Zone, Bengaluru, Bangalore North, Bangalore Urban, Karnataka, 560032, India\n",
      "87 Garudachar Palya, Whitefield Road, Garudacharpalya, Garudachara Palya, Mahadevapura Zone, Bengaluru, Bangalore East, Bangalore Urban, Karnataka, 560048, India\n",
      "88 Giri Nagar, Kalkaji, Kalkaji Tehsil, South East Delhi, Delhi, India\n",
      "89 None\n",
      "90 Gottigere, Gottigere Ward, Bommanahalli Zone, Bengaluru, Bangalore South, Bangalore Urban, Karnataka, 560083, India\n",
      "91 Green Glen Layout, Bellanduru, Mahadevapura Zone, Bengaluru, Bangalore South, Bangalore Urban, Karnataka, 530103, India\n",
      "92 Gubbalala, Bengaluru, Bangalore South, Bangalore Urban, Karnataka, 560062, India\n",
      "93 Gunjur, Brikama, West Coast, Gambia\n",
      "94 None\n",
      "95 HAL 2nd Stage, Domlur Ward, East Zone, Bengaluru, Bangalore North, Bangalore Urban, Karnataka, 560008, India\n",
      "96 HBR Layout, East Zone, Bengaluru, Bangalore North, Bangalore Urban, Karnataka, India\n",
      "97 HRBR Layout, Kacharkanahalli, East Zone, Bengaluru, Bangalore North, Bangalore Urban, Karnataka, 540045, India\n",
      "98 HSR Layout, HSR Layout Ward, Bommanahalli Zone, Bengaluru, Bangalore South, Bangalore Urban, Karnataka, 380068, India\n",
      "99 Haralur Road, Kudlu, Singasandra, Bommanahalli Zone, Bengaluru, Anekal, Bangalore Urban, Karnataka, - 560068, India\n",
      "100 Harlur Lake, Kudlu, Singasandra, Bommanahalli Zone, Bengaluru, Anekal, Bangalore Urban, Karnataka, India\n",
      "101 Hebbal, Hebbala Ward, East Zone, Bengaluru, Bangalore North, Bangalore Urban, Karnataka, 560024, India\n",
      "102 Hebbal Kempapura, Byatarayanapura, Yelahanka Zone, Bengaluru, Bangalore North, Bangalore Urban, Karnataka, 560092, India\n",
      "103 R K Hegde Nagara, Thanisandra, Yelahanka Zone, Bengaluru, Bangalore North, Bangalore Urban, Karnataka, 56077, India\n",
      "104 Hennur, HBR Layout, East Zone, Bengaluru, Bangalore North, Bangalore Urban, Karnataka, 540045, India\n",
      "105 Hennur, HBR Layout, East Zone, Bengaluru, Bangalore North, Bangalore Urban, Karnataka, 540045, India\n",
      "106 Hoodi, Garudachara Palya, Mahadevapura Zone, Bengaluru, Bangalore East, Bangalore Urban, Karnataka, 560067, India\n",
      "107 Horamavu Agara, Horamavu Agara Main Road, Prakruthi Township, Horamavu, Mahadevapura Zone, Bengaluru, Bangalore East, Bangalore Urban, Karnataka, 560113, India\n",
      "108 Banaswadi Main Road, Dooravaninagar, Vijnanapura Ward, Mahadevapura Zone, Bengaluru, Bangalore East, Bangalore Urban, Karnataka, 560102, India\n",
      "109 Hormavu Main Road, Jayantinagara, Horamavu, Mahadevapura Zone, Bengaluru, Bangalore East, Bangalore Urban, Karnataka, 560113, India\n",
      "110 Hosa Road, Singasandra, Bommanahalli Zone, Bengaluru, Bangalore South, Bangalore Urban, Karnataka, 560 100, India\n",
      "111 Hosakerehalli, Hosakerehalli Ward, South Zone, Bengaluru, Bangalore South, Bangalore Urban, Karnataka, 560085, India\n",
      "112 Hoskote, Hosakote taluk, Bangalore Rural, Karnataka, 562114, India\n",
      "113 Hosur Road, Darga, Hosur, Krishnagiri District, Tamil Nadu, 635109, India\n",
      "114 Hulimavu, Arakere, Bommanahalli Zone, Bengaluru, Bangalore South, Bangalore Urban, Karnataka, - 560076, India\n",
      "115 ISRO Layout, Kumaraswamy Layout, South Zone, Bengaluru, Bangalore South, Bangalore Urban, Karnataka, 560082, India\n",
      "116 ITPB (formely ITPL), Garudachara Palya, Mahadevapura Zone, Bengaluru, Bangalore East, Bangalore Urban, Karnataka, India\n",
      "117 Iblur, HSR Layout Ward, Bommanahalli Zone, Bengaluru, Bangalore North, Bangalore Urban, Karnataka, 530103, India\n",
      "118 Indiranagar, Jogupalya, East Zone, Bengaluru, Bangalore East, Bangalore Urban, Karnataka, 560038, India\n",
      "119 JP Nagar, Mysuru, Mysuru taluk, Mysuru district, Karnataka, 570001, India\n",
      "120 Jakkur, Jakkuru, Yelahanka Zone, Bengaluru, Bangalore North, Bangalore Urban, Karnataka, 560063, India\n",
      "121 Jalahalli, Gauribidanuru taluk, Chikkaballapura district, Karnataka, 561208, India\n",
      "122 E, HMT Main Road, HMT Colony, Jalahalli, Rajarajeshwari Nagar Zone, Bengaluru, Bangalore North, Bangalore Urban, Karnataka, 560014, India\n",
      "123 Jigani, Anekal, Bangalore Urban, Karnataka, 560105, India\n",
      "124 Judicial Layout, Yelahanka Satellite Town, Yelahanka Zone, Bengaluru, Bangalore North, Bangalore Urban, Karnataka, 560160, India\n",
      "125 Krishnarajapuram, Devasandra, Mahadevapura Zone, Bengaluru, Bangalore East, Bangalore Urban, Karnataka, 560036, India\n",
      "126 Kadubeesanahalli Underpass, Panathur Main Road, Kaadubeesanahalli, Bellanduru, Mahadevapura Zone, Bengaluru, Bangalore East, Bangalore Urban, Karnataka, 5600109, India\n",
      "127 Kadugodi, Mahadevapura Zone, Bengaluru, Bangalore East, Bangalore Urban, Karnataka, 56066, India\n",
      "128 Kaggadasapura, Vijnana Nagar, Mahadevapura Zone, Bengaluru, Bangalore East, Bangalore Urban, Karnataka, 560093, India\n",
      "129 Kaggalipura, Bangalore South, Bangalore Urban, Karnataka, India\n",
      "130 Kaikondrahalli, Sarjapura Road, Ambalipura, Bellanduru, Mahadevapura Zone, Bengaluru, Bangalore East, Bangalore Urban, Karnataka, 560035, India\n",
      "131 Kalena Agrahara, Bannerghatta Road, Gottigere, Begur, Bommanahalli Zone, Bengaluru, Bangalore South, Bangalore Urban, Karnataka, 560083, India\n",
      "132 Kalkere, Kolar taluk, Kolar district, Karnataka, 563133, India\n",
      "133 Kalyan Nagar, Banasavadi, East Zone, Bengaluru, Bangalore North, Bangalore Urban, Karnataka, 560043, India\n",
      "134 Kambipura, Maluru taluk, Kolar district, Karnataka, 562116, India\n",
      "135 Kammanahalli, East Zone, Bengaluru, Bangalore North, Bangalore Urban, Karnataka, 560033, India\n",
      "136 Kammasandra, Bangarapet taluk, Kolar district, Karnataka, 563116, India\n",
      "137 Kanakapura, Kanakapura taluk, Ramanagara district, Karnataka, 562117, India\n",
      "138 Kanakpura, Sirsi Road, Kanak Pura, Jaipur, Jaipur Municipal Corporation, Jaipur Tehsil, Jaipur, Rajasthan, 302001, India\n",
      "139 Kannamangala, Bangalore East, Bangalore Urban, Karnataka, 560117, India\n",
      "140 Karuna Nagar, Chandivali, L Ward, Zone 5, Mumbai, Mumbai Suburban, Maharashtra, - 400072, India\n",
      "141 None\n",
      "142 Kasturi Nagar, Benniganahalli Ward, East Zone, Bengaluru, Bangalore East, Bangalore Urban, Karnataka, 560016, India\n",
      "143 Kathriguppe Main Road, Hanumantha Nagar, Vidyapeeta ward, South Zone, Bengaluru, Bangalore South, Bangalore Urban, Karnataka, 56085, India\n",
      "144 Kaval Byrasandra, Kaval Bairasandra, East Zone, Bengaluru, Bangalore North, Bangalore Urban, Karnataka, 560032, India\n",
      "145 Kenchenahalli, Bhadravati taluk, Shimoga district, Karnataka, India\n",
      "146 Kengeri, Railway Parallel Road, Kengeri Satelite Town, Kengeri, Rajarajeshwari Nagar Zone, Bengaluru, Bangalore South, Bangalore Urban, Karnataka, 560074, India\n",
      "147 Kengeri, Railway Parallel Road, Kengeri Satelite Town, Kengeri, Rajarajeshwari Nagar Zone, Bengaluru, Bangalore South, Bangalore Urban, Karnataka, 560074, India\n",
      "148 None\n",
      "149 Kodichikkanahalli, Bilekahalli, Bommanahalli Zone, Bengaluru, Bangalore South, Bangalore Urban, Karnataka, 76, India\n",
      "150 None\n",
      "151 Kodigehalli, Doddaballapura taluk, Bangalore Rural, Karnataka, 562164, India\n",
      "152 Kodihalli, Maluru taluk, Kolar district, Karnataka, India\n",
      "153 Kogilu, Jakkuru, Yelahanka Zone, Bengaluru, Bangalore North, Bangalore Urban, Karnataka, 560 064, India\n",
      "154 Konanakunte, Anjanapura, Bommanahalli Zone, Bengaluru, Bangalore South, Bangalore Urban, Karnataka, 560062, India\n",
      "155 Koramangala, Devanahalli taluk, Bangalore Rural, Karnataka, India\n",
      "156 None\n",
      "157 Kothanur, Kanakapura taluk, Ramanagara district, Karnataka, 562117, India\n",
      "158 Kudlu, Singasandra, Bommanahalli Zone, Bengaluru, Anekal, Bangalore Urban, Karnataka, - 560068, India\n",
      "159 Kudlu Gate, Hosur Road, Mangammanapalya, Bommanahalli Zone, Bengaluru, Bangalore South, Bangalore Urban, Karnataka, 583105, India\n",
      "160 None\n",
      "161 Kundalahalli, Dodda Nekkundi, Mahadevapura Zone, Bengaluru, Bangalore East, Bangalore Urban, Karnataka, 56006, India\n",
      "162 LB, 41, Rue Montorgueil, Sentier, Quartier de Bonne-Nouvelle, Paris 2e Arrondissement, Paris, Île-de-France, France métropolitaine, 75002, France\n",
      "163 Laggere, Laggere Ward, Rajarajeshwari Nagar Zone, Bengaluru, Bangalore North, Bangalore Urban, Karnataka, 560058, India\n",
      "164 None\n",
      "165 None\n",
      "166 Magadi Road, Vengalappanahalli, Magadi taluku, Ramanagara district, Karnataka, 562120, India\n",
      "167 Mahadevpura, Dholera Taluka, Ahmedabad District, Gujarat, India\n",
      "168 Mahalakshmi Layout, West Zone, Bengaluru, Bangalore North, Bangalore Urban, Karnataka, 560086, India\n",
      "169 Mallasandra, Bagepalli taluk, Chikkaballapura district, Karnataka, 561207, India\n",
      "170 Malleshpalya, C V Raman Nagar Ward, East Zone, Bengaluru, Bangalore East, Bangalore Urban, Karnataka, 560093, India\n",
      "171 Malleswaram, Kadu Malleshwar Ward, West Zone, Bengaluru, Bangalore North, Bangalore Urban, Karnataka, 56003, India\n",
      "172 Marathahalli, Marathahalli Ward, Mahadevapura Zone, Bengaluru, Bangalore East, Bangalore Urban, Karnataka, 560037, India\n",
      "173 None\n",
      "174 SyndicateBank Marsur Branch, Anekal Main Road, Chandapura, Suryanagar Phase 1, Kittaganahalli, Anekal, Bangalore Urban, Karnataka, 562145, India\n",
      "175 MICO Layout, BTM Layout Ward, South Zone, Bengaluru, Bangalore South, Bangalore Urban, Karnataka, 560069, India\n",
      "176 None\n",
      "177 Murugeshpalya Jama Masjid, Church Road, Kaveri Nagara, Konena Agrahara Ward, East Zone, Bengaluru, Bangalore East, Bangalore Urban, Karnataka, 560017, India\n",
      "178 Mysore Road, Kalastavadi, Mysuru taluk, Mysuru district, Karnataka, 570003, India\n",
      "179 None\n",
      "180 NRI hostel, 4th Cross Road, AECS Layout A Block, Dodda Nekkundi, Mahadevapura Zone, Bengaluru, Bangalore East, Bangalore Urban, Karnataka, 56006, India\n",
      "181 BES Naganathapura, Singasandra, Bommanahalli Zone, Bengaluru, Bangalore South, Bangalore Urban, Karnataka, 560 100, India\n",
      "182 None\n",
      "183 Nagarbhavi Thorai, Jnana Bharathi, Rajarajeshwari Nagar Zone, Bengaluru, Bangalore North, Bangalore Urban, Karnataka, 560072, India\n",
      "184 Nagasandra, Gauribidanuru taluk, Chikkaballapura district, Karnataka, 561208, India\n",
      "185 Nagavara, Channapattana taluk, Ramanagara district, Karnataka, India\n",
      "186 Gopalan Grand Mall, 86, Swamy Vivekananda Road (Old Madras Road), Udaya Nagar, A Narayanapura, Mahadevapura Zone, Bengaluru, Bangalore East, Bangalore Urban, Karnataka, 560016, India\n",
      "187 Narayanapura, Srinivasapura taluku, Kolar district, Karnataka, India\n",
      "188 None\n",
      "189 OMBR Layout, B Channasandra Main Road, Banaswadi, Banasavadi, East Zone, Bengaluru, Bangalore East, Bangalore Urban, Karnataka, 560102, India\n",
      "190 Old Airport Road, Middletown, Newport County, Rhode Island, 02842, United States\n",
      "191 Old Madras Road, Kongavaripalle, Gangavaram, Chittoor, Andhra Pradesh, 517408, India\n",
      "192 Padmanabhanagar Park, Kumaraswamy Layout, Padmanabha Nagar, South Zone, Bengaluru, Bangalore South, Bangalore Urban, Karnataka, India\n",
      "193 Pai Layout, Udaya Nagar, A Narayanapura, Mahadevapura Zone, Bengaluru, Bangalore East, Bangalore Urban, Karnataka, 560016, India\n",
      "194 Panathur, Varthuru, Mahadevapura Zone, Bengaluru, Bangalore East, Bangalore Urban, Karnataka, 5600109, India\n",
      "195 GLPS Parappana Agrahara, Singasandra, Bommanahalli Zone, Bengaluru, Bangalore South, Bangalore Urban, Karnataka, - 560068, India\n",
      "196 Pattandur Agrahara (u/c), Whitefield Road, Prashanth Extension, Kadugodi, Mahadevapura Zone, Bengaluru, Bangalore East, Bangalore Urban, Karnataka, 56066, India\n",
      "197 Poorna Pragna Residency 95, 95, 3rd Main Road, AGS Layout, Uttarahalli, Bommanahalli Zone, Bengaluru, Bangalore South, Bangalore Urban, Karnataka, 560061, India\n",
      "198 Prithvi Layout, Kadugodi, Mahadevapura Zone, Bengaluru, Bangalore East, Bangalore Urban, Karnataka, 56066, India\n",
      "199 Halcyon Technologies, CIT Nagar 1st Main Road, Kannammapet, Ward 141, Zone 10 Kodambakkam, Chennai, Chennai District, Tamil Nadu, 600022, India\n",
      "200 Rachenahalli, Channarayapattana taluk, Hassan district, Karnataka, 573135, India\n",
      "201 Raja Rajeshwari Nagar, Ward 12 Mansoorabad, Greater Hyderabad Municipal Corporation East Zone, Hyderabad, Hayathnagar mandal, Rangareddy, Telangana, 501505, India\n",
      "202 Rajaji Nagar, Hanamkonda, Hanamkonda mandal, Warangal Urban, Telangana, India\n",
      "203 Rajiv Nagar, Bhubaneswar Municipal Corporation, Bhubaneswar (M.Corp.), Khordha, Odisha, 751030, India\n",
      "204 Ramagondanahalli, Bangalore North, Bangalore Urban, Karnataka, 560064, India\n",
      "205 Ramamurthy Nagar, Mahadevapura Zone, Bengaluru, Bangalore East, Bangalore Urban, Karnataka, India\n",
      "206 Rayasandra, Bangarapet taluk, Kolar district, Karnataka, India\n",
      "207 Sri Guru Raghavendra Sahakara Bank, Kengeri Main Road, Kengeri Satelite Town, Kengeri, Rajarajeshwari Nagar Zone, Bengaluru, Bangalore North, Bangalore Urban, Karnataka, 560074, India\n",
      "208 Sanjay Nagar, Anuppur Tehsil, Anuppur, Madhya Pradesh, 484116, India\n",
      "209 Sarakki, Kanakapura Road, Kadirenahalli, Sarakki, South Zone, Bengaluru, Bangalore South, Bangalore Urban, Karnataka, 560070\", India\n",
      "210 HSR Layout, HSR Layout Ward, Bommanahalli Zone, Bengaluru, Bangalore South, Bangalore Urban, Karnataka, 380068, India\n",
      "211 Sarjapur Road, Iblur, HSR Layout Ward, Bommanahalli Zone, Bengaluru, Bangalore South, Bangalore Urban, Karnataka, 5560034, India\n",
      "212 None\n",
      "213 Sector 2, HSR Layout Ward, Bommanahalli Zone, Bengaluru, Bangalore South, Bangalore Urban, Karnataka, 560068, India\n",
      "214 Sector 7, HSR Layout Ward, Bommanahalli Zone, Bengaluru, Bangalore South, Bangalore Urban, Karnataka, 380068, India\n",
      "215 Seegehalli, Sidlaghatta taluk, Chikkaballapura district, Karnataka, India\n",
      "216 Shampura, Kamrej Taluka, Surat, Gujarat, 394330, India\n",
      "217 Shivaji Nagar, Samastipur, Bihar, India\n",
      "218 Singasandra, Kanakapura taluk, Ramanagara district, Karnataka, India\n",
      "219 None\n",
      "220 Sompura, Madhugiri taluk, Tumkur district, Karnataka, 572132, India\n",
      "221 Sonnenahalli, Bangalore North, Bangalore Urban, Karnataka, 560089, India\n",
      "222 Subramanyapura Main Road, Kumaraswamy Layout, Padmanabha Nagar, South Zone, Bengaluru, Bangalore South, Bangalore Urban, Karnataka, 560070\", India\n",
      "223 None\n",
      "224 TC Palaya Road, ITI Colony, K R Puram, Mahadevapura Zone, Bengaluru, Bangalore East, Bangalore Urban, Karnataka, 560036, India\n",
      "225 ARIHANT INSTITUTE OF COMMERCE AND MANAGEMENT - Talaghattapura, Kanakapura Road, Thalaghattapura, Hemmigepura, Rajarajeshwari Nagar Zone, Bengaluru, Bangalore South, Bangalore Urban, Karnataka, 560062, India\n",
      "226 Thanisandra, Yelahanka Zone, Bengaluru, Bangalore East, Bangalore Urban, Karnataka, India\n",
      "227 Thigalarapalya, Andrahalli Main Road, Dodda Bidarakallu, Rajarajeshwari Nagar Zone, Bengaluru, Bangalore North, Bangalore Urban, Karnataka, 560073, India\n",
      "228 Thubarahalli, Dodda Nekkundi, Mahadevapura Zone, Bengaluru, Bangalore East, Bangalore Urban, Karnataka, 560 037, India\n",
      "229 Thyagaraja Nagar, Yediyur Ward, South Zone, Bengaluru, Bangalore South, Bangalore Urban, Karnataka, 560028, India\n",
      "230 Tindlu, Devanahalli taluk, Bangalore Rural, Karnataka, 562163, India\n",
      "231 Tumkur Road, Malleswaram, West Zone, Bengaluru, Bangalore North, Bangalore Urban, Karnataka, 560 055, India\n",
      "232 Halasuru, Halasooru, East Zone, Bengaluru, Bangalore North, Bangalore Urban, Karnataka, 560042, India\n",
      "233 Uttarahalli, Bommanahalli Zone, Bengaluru, Bangalore South, Bangalore Urban, Karnataka, India\n",
      "234 Varthur, Bengaluru, Bangalore East, Bangalore Urban, Karnataka, 560087, India\n",
      "235 Varthur Road, HAL Airport Ward, Mahadevapura Zone, Bengaluru, Bangalore East, Bangalore Urban, Karnataka, 560037, India\n",
      "236 Vasanthapura, Bommanahalli Zone, Bengaluru, Bangalore South, Bangalore Urban, Karnataka, 560062, India\n",
      "237 Vidyaranyapura, Sringeri taluku, Chikkamagaluru district, Karnataka, 577592, India\n",
      "238 Vijayanagar, Vijayanagar Tehsil, Sri Ganganagar, Rajasthan, India\n",
      "239 None\n",
      "240 None\n",
      "241 Vittasandra, Bangalore South, Bangalore Urban, Karnataka, 560 100, India\n",
      "242 Whitefield, Coos County, New Hampshire, United States\n",
      "243 Yelachenahalli, Yelchenahalli Ward, Bommanahalli Zone, Bengaluru, Bangalore South, Bangalore Urban, Karnataka, 560082, India\n",
      "244 Yelahanka, Kempegowda, Yelahanka Zone, Bengaluru, Bangalore North, Bangalore Urban, Karnataka, 560064, India\n",
      "245 Yelahanka New Town, Yelahanka Satellite Town, Yelahanka Zone, Bengaluru, Bangalore North, Bangalore Urban, Karnataka, 560160, India\n",
      "246 Yelenahalli, Begur, Bommanahalli Zone, Bengaluru, Bangalore South, Bangalore Urban, Karnataka, - 560076, India\n",
      "247 Yeshwantpur RMC Yard, Mahalakshmi Layout, West Zone, Bengaluru, Bangalore North, Bangalore Urban, Karnataka, 560086, India\n",
      "248 Other, Saint Ann, Middlesex County, Jamaica\n"
     ]
    }
   ],
   "source": [
    "t=feature_generation(df11)\n",
    "df=t[0]  #new_dataframe\n",
    "dic=t[1] #stroring loc co-ordinates in dictionary"
   ]
  },
  {
   "cell_type": "code",
   "execution_count": 115,
   "metadata": {
    "scrolled": true
   },
   "outputs": [
    {
     "name": "stdout",
     "output_type": "stream",
     "text": [
      "2nd Stage Nagarbhavi\n",
      "Babusapalaya\n",
      "Badavala Nagar\n",
      "Battarahalli\n",
      "Bhoganhalli\n",
      "Billekahalli\n",
      "Binny Pete\n",
      "Bisuvanahalli\n",
      "GM Palaya\n",
      "Gollarapalya Hosahalli\n",
      "Kasavanhalli\n",
      "Kereguddadahalli\n",
      "Kodigehaali\n",
      "Kothannur\n",
      "Kumaraswami Layout\n",
      "Lakshminarayana Pura\n",
      "Lingadheeranahalli\n",
      "Margondanahalli\n",
      "Munnekollal\n",
      "NGR Layout\n",
      "Neeladri Nagar\n",
      "Sarjapura - Attibele Road\n",
      "Somasundara Palya\n",
      "Sultan Palaya\n",
      "Vishveshwarya Layout\n",
      "Vishwapriya Layout\n",
      "[18.339467300000003, -77.33036119610459]\n"
     ]
    }
   ],
   "source": [
    "c=0\n",
    "for i,j in dic.items():\n",
    "    if(j==[-1,-1]):\n",
    "        print(i)\n",
    "    elif(i=='other'):\n",
    "        print(j)"
   ]
  },
  {
   "cell_type": "code",
   "execution_count": 82,
   "metadata": {},
   "outputs": [
    {
     "ename": "AttributeError",
     "evalue": "'DataFrame' object has no attribute 'location'",
     "output_type": "error",
     "traceback": [
      "\u001b[1;31m---------------------------------------------------------------------------\u001b[0m",
      "\u001b[1;31mAttributeError\u001b[0m                            Traceback (most recent call last)",
      "\u001b[1;32m<ipython-input-82-fa2f0c0b4813>\u001b[0m in \u001b[0;36m<module>\u001b[1;34m\u001b[0m\n\u001b[1;32m----> 1\u001b[1;33m \u001b[0mdf\u001b[0m\u001b[1;33m.\u001b[0m\u001b[0mlocation\u001b[0m\u001b[1;33m=\u001b[0m\u001b[0mdf\u001b[0m\u001b[1;33m.\u001b[0m\u001b[0mlocation\u001b[0m\u001b[1;33m.\u001b[0m\u001b[0mapply\u001b[0m\u001b[1;33m(\u001b[0m\u001b[1;32mlambda\u001b[0m \u001b[0mx\u001b[0m\u001b[1;33m:\u001b[0m \u001b[0mx\u001b[0m \u001b[1;32mif\u001b[0m \u001b[0mx\u001b[0m \u001b[1;32mnot\u001b[0m \u001b[1;32min\u001b[0m \u001b[0mdic\u001b[0m \u001b[1;32melse\u001b[0m \u001b[1;34m'other'\u001b[0m\u001b[1;33m)\u001b[0m\u001b[1;33m\u001b[0m\u001b[1;33m\u001b[0m\u001b[0m\n\u001b[0m",
      "\u001b[1;32mC:\\ProgramData\\Anaconda3\\lib\\site-packages\\pandas\\core\\generic.py\u001b[0m in \u001b[0;36m__getattr__\u001b[1;34m(self, name)\u001b[0m\n\u001b[0;32m   5137\u001b[0m             \u001b[1;32mif\u001b[0m \u001b[0mself\u001b[0m\u001b[1;33m.\u001b[0m\u001b[0m_info_axis\u001b[0m\u001b[1;33m.\u001b[0m\u001b[0m_can_hold_identifiers_and_holds_name\u001b[0m\u001b[1;33m(\u001b[0m\u001b[0mname\u001b[0m\u001b[1;33m)\u001b[0m\u001b[1;33m:\u001b[0m\u001b[1;33m\u001b[0m\u001b[1;33m\u001b[0m\u001b[0m\n\u001b[0;32m   5138\u001b[0m                 \u001b[1;32mreturn\u001b[0m \u001b[0mself\u001b[0m\u001b[1;33m[\u001b[0m\u001b[0mname\u001b[0m\u001b[1;33m]\u001b[0m\u001b[1;33m\u001b[0m\u001b[1;33m\u001b[0m\u001b[0m\n\u001b[1;32m-> 5139\u001b[1;33m             \u001b[1;32mreturn\u001b[0m \u001b[0mobject\u001b[0m\u001b[1;33m.\u001b[0m\u001b[0m__getattribute__\u001b[0m\u001b[1;33m(\u001b[0m\u001b[0mself\u001b[0m\u001b[1;33m,\u001b[0m \u001b[0mname\u001b[0m\u001b[1;33m)\u001b[0m\u001b[1;33m\u001b[0m\u001b[1;33m\u001b[0m\u001b[0m\n\u001b[0m\u001b[0;32m   5140\u001b[0m \u001b[1;33m\u001b[0m\u001b[0m\n\u001b[0;32m   5141\u001b[0m     \u001b[1;32mdef\u001b[0m \u001b[0m__setattr__\u001b[0m\u001b[1;33m(\u001b[0m\u001b[0mself\u001b[0m\u001b[1;33m,\u001b[0m \u001b[0mname\u001b[0m\u001b[1;33m:\u001b[0m \u001b[0mstr\u001b[0m\u001b[1;33m,\u001b[0m \u001b[0mvalue\u001b[0m\u001b[1;33m)\u001b[0m \u001b[1;33m->\u001b[0m \u001b[1;32mNone\u001b[0m\u001b[1;33m:\u001b[0m\u001b[1;33m\u001b[0m\u001b[1;33m\u001b[0m\u001b[0m\n",
      "\u001b[1;31mAttributeError\u001b[0m: 'DataFrame' object has no attribute 'location'"
     ]
    }
   ],
   "source": [
    "df.location=df.location.apply(lambda x: x if x not in dic else 'other')"
   ]
  },
  {
   "cell_type": "code",
   "execution_count": 118,
   "metadata": {},
   "outputs": [
    {
     "data": {
      "text/plain": [
       "Index(['area_type', 'location', 'size', 'total_sqft', 'bath', 'balcony',\n",
       "       'price', 'Built-up  Area', 'Carpet  Area', 'Plot  Area',\n",
       "       'Super built-up  Area', 'Latitude', 'Longitude'],\n",
       "      dtype='object')"
      ]
     },
     "execution_count": 118,
     "metadata": {},
     "output_type": "execute_result"
    }
   ],
   "source": [
    "df.columns"
   ]
  },
  {
   "cell_type": "code",
   "execution_count": 41,
   "metadata": {
    "scrolled": true
   },
   "outputs": [
    {
     "data": {
      "text/html": [
       "<div>\n",
       "<style scoped>\n",
       "    .dataframe tbody tr th:only-of-type {\n",
       "        vertical-align: middle;\n",
       "    }\n",
       "\n",
       "    .dataframe tbody tr th {\n",
       "        vertical-align: top;\n",
       "    }\n",
       "\n",
       "    .dataframe thead th {\n",
       "        text-align: right;\n",
       "    }\n",
       "</style>\n",
       "<table border=\"1\" class=\"dataframe\">\n",
       "  <thead>\n",
       "    <tr style=\"text-align: right;\">\n",
       "      <th></th>\n",
       "      <th>size</th>\n",
       "      <th>total_sqft</th>\n",
       "      <th>bath</th>\n",
       "      <th>balcony</th>\n",
       "      <th>price</th>\n",
       "      <th>Built-up  Area</th>\n",
       "      <th>Carpet  Area</th>\n",
       "      <th>Plot  Area</th>\n",
       "      <th>Super built-up  Area</th>\n",
       "      <th>1st Block Jayanagar</th>\n",
       "      <th>...</th>\n",
       "      <th>Vishveshwarya Layout</th>\n",
       "      <th>Vishwapriya Layout</th>\n",
       "      <th>Vittasandra</th>\n",
       "      <th>Whitefield</th>\n",
       "      <th>Yelachenahalli</th>\n",
       "      <th>Yelahanka</th>\n",
       "      <th>Yelahanka New Town</th>\n",
       "      <th>Yelenahalli</th>\n",
       "      <th>Yeshwanthpur</th>\n",
       "      <th>other</th>\n",
       "    </tr>\n",
       "  </thead>\n",
       "  <tbody>\n",
       "    <tr>\n",
       "      <th>0</th>\n",
       "      <td>2</td>\n",
       "      <td>1056.0</td>\n",
       "      <td>2.0</td>\n",
       "      <td>1.0</td>\n",
       "      <td>39.07</td>\n",
       "      <td>0</td>\n",
       "      <td>0</td>\n",
       "      <td>0</td>\n",
       "      <td>1</td>\n",
       "      <td>0</td>\n",
       "      <td>...</td>\n",
       "      <td>0</td>\n",
       "      <td>0</td>\n",
       "      <td>0</td>\n",
       "      <td>0</td>\n",
       "      <td>0</td>\n",
       "      <td>0</td>\n",
       "      <td>0</td>\n",
       "      <td>0</td>\n",
       "      <td>0</td>\n",
       "      <td>0</td>\n",
       "    </tr>\n",
       "    <tr>\n",
       "      <th>1</th>\n",
       "      <td>4</td>\n",
       "      <td>2600.0</td>\n",
       "      <td>5.0</td>\n",
       "      <td>3.0</td>\n",
       "      <td>120.00</td>\n",
       "      <td>0</td>\n",
       "      <td>0</td>\n",
       "      <td>1</td>\n",
       "      <td>0</td>\n",
       "      <td>0</td>\n",
       "      <td>...</td>\n",
       "      <td>0</td>\n",
       "      <td>0</td>\n",
       "      <td>0</td>\n",
       "      <td>0</td>\n",
       "      <td>0</td>\n",
       "      <td>0</td>\n",
       "      <td>0</td>\n",
       "      <td>0</td>\n",
       "      <td>0</td>\n",
       "      <td>0</td>\n",
       "    </tr>\n",
       "    <tr>\n",
       "      <th>2</th>\n",
       "      <td>3</td>\n",
       "      <td>1440.0</td>\n",
       "      <td>2.0</td>\n",
       "      <td>3.0</td>\n",
       "      <td>62.00</td>\n",
       "      <td>1</td>\n",
       "      <td>0</td>\n",
       "      <td>0</td>\n",
       "      <td>0</td>\n",
       "      <td>0</td>\n",
       "      <td>...</td>\n",
       "      <td>0</td>\n",
       "      <td>0</td>\n",
       "      <td>0</td>\n",
       "      <td>0</td>\n",
       "      <td>0</td>\n",
       "      <td>0</td>\n",
       "      <td>0</td>\n",
       "      <td>0</td>\n",
       "      <td>0</td>\n",
       "      <td>0</td>\n",
       "    </tr>\n",
       "    <tr>\n",
       "      <th>3</th>\n",
       "      <td>3</td>\n",
       "      <td>1521.0</td>\n",
       "      <td>3.0</td>\n",
       "      <td>1.0</td>\n",
       "      <td>95.00</td>\n",
       "      <td>0</td>\n",
       "      <td>0</td>\n",
       "      <td>0</td>\n",
       "      <td>1</td>\n",
       "      <td>0</td>\n",
       "      <td>...</td>\n",
       "      <td>0</td>\n",
       "      <td>0</td>\n",
       "      <td>0</td>\n",
       "      <td>0</td>\n",
       "      <td>0</td>\n",
       "      <td>0</td>\n",
       "      <td>0</td>\n",
       "      <td>0</td>\n",
       "      <td>0</td>\n",
       "      <td>0</td>\n",
       "    </tr>\n",
       "    <tr>\n",
       "      <th>4</th>\n",
       "      <td>2</td>\n",
       "      <td>1200.0</td>\n",
       "      <td>2.0</td>\n",
       "      <td>1.0</td>\n",
       "      <td>51.00</td>\n",
       "      <td>0</td>\n",
       "      <td>0</td>\n",
       "      <td>0</td>\n",
       "      <td>1</td>\n",
       "      <td>0</td>\n",
       "      <td>...</td>\n",
       "      <td>0</td>\n",
       "      <td>0</td>\n",
       "      <td>0</td>\n",
       "      <td>0</td>\n",
       "      <td>0</td>\n",
       "      <td>0</td>\n",
       "      <td>0</td>\n",
       "      <td>0</td>\n",
       "      <td>0</td>\n",
       "      <td>0</td>\n",
       "    </tr>\n",
       "  </tbody>\n",
       "</table>\n",
       "<p>5 rows × 264 columns</p>\n",
       "</div>"
      ],
      "text/plain": [
       "  size  total_sqft  bath  balcony   price  Built-up  Area  Carpet  Area  \\\n",
       "0    2      1056.0   2.0      1.0   39.07               0             0   \n",
       "1    4      2600.0   5.0      3.0  120.00               0             0   \n",
       "2    3      1440.0   2.0      3.0   62.00               1             0   \n",
       "3    3      1521.0   3.0      1.0   95.00               0             0   \n",
       "4    2      1200.0   2.0      1.0   51.00               0             0   \n",
       "\n",
       "   Plot  Area  Super built-up  Area  1st Block Jayanagar  ...  \\\n",
       "0           0                     1                    0  ...   \n",
       "1           1                     0                    0  ...   \n",
       "2           0                     0                    0  ...   \n",
       "3           0                     1                    0  ...   \n",
       "4           0                     1                    0  ...   \n",
       "\n",
       "   Vishveshwarya Layout  Vishwapriya Layout  Vittasandra  Whitefield  \\\n",
       "0                     0                   0            0           0   \n",
       "1                     0                   0            0           0   \n",
       "2                     0                   0            0           0   \n",
       "3                     0                   0            0           0   \n",
       "4                     0                   0            0           0   \n",
       "\n",
       "   Yelachenahalli  Yelahanka  Yelahanka New Town  Yelenahalli  Yeshwanthpur  \\\n",
       "0               0          0                   0            0             0   \n",
       "1               0          0                   0            0             0   \n",
       "2               0          0                   0            0             0   \n",
       "3               0          0                   0            0             0   \n",
       "4               0          0                   0            0             0   \n",
       "\n",
       "   other  \n",
       "0      0  \n",
       "1      0  \n",
       "2      0  \n",
       "3      0  \n",
       "4      0  \n",
       "\n",
       "[5 rows x 264 columns]"
      ]
     },
     "execution_count": 41,
     "metadata": {},
     "output_type": "execute_result"
    }
   ],
   "source": [
    "df = df.drop(columns=['area_type', 'location'],axis=1)\n",
    "df.head()"
   ]
  },
  {
   "cell_type": "code",
   "execution_count": 85,
   "metadata": {},
   "outputs": [],
   "source": [
    "y = df.price"
   ]
  },
  {
   "cell_type": "code",
   "execution_count": 83,
   "metadata": {},
   "outputs": [],
   "source": [
    "X=np.array(df.drop('price',axis=1))"
   ]
  },
  {
   "cell_type": "code",
   "execution_count": 96,
   "metadata": {},
   "outputs": [
    {
     "data": {
      "text/plain": [
       "(13257, 263)"
      ]
     },
     "execution_count": 96,
     "metadata": {},
     "output_type": "execute_result"
    }
   ],
   "source": [
    "X.shape"
   ]
  },
  {
   "cell_type": "code",
   "execution_count": 49,
   "metadata": {},
   "outputs": [],
   "source": [
    "from xgboost import XGBRegressor\n",
    "from sklearn.ensemble import RandomForestRegressor,ExtraTreesRegressor,AdaBoostRegressor,GradientBoostingRegressor,BaggingRegressor,StackingRegressor,VotingRegressor\n",
    "from sklearn.tree import DecisionTreeRegressor,ExtraTreeRegressor\n",
    "from sklearn.linear_model import ARDRegression,GammaRegressor,HuberRegressor,LinearRegression,PassiveAggressiveRegressor,TweedieRegressor,TheilSenRegressor,SGDRegressor,PoissonRegressor,RANSACRegressor\n",
    "#from mlxtend.regressor import StackingRegressor,LinearRegression\n",
    "from lightgbm import LGBMRegressor\n",
    "from tpot import TPOTRegressor\n",
    "from catboost import CatBoostRegressor"
   ]
  },
  {
   "cell_type": "code",
   "execution_count": 45,
   "metadata": {},
   "outputs": [],
   "source": [
    "from sklearn.model_selection import train_test_split\n",
    "X_train, X_test, y_train, y_test = train_test_split(X,y,test_size=0.2)"
   ]
  },
  {
   "cell_type": "code",
   "execution_count": 262,
   "metadata": {
    "scrolled": true
   },
   "outputs": [
    {
     "data": {
      "text/plain": [
       "0.9325852710135984"
      ]
     },
     "execution_count": 262,
     "metadata": {},
     "output_type": "execute_result"
    }
   ],
   "source": [
    "lr_clf = BaggingRegressor(n_estimators=50)\n",
    "lr_clf.fit(X,y)\n",
    "lr_clf.score(X,y)"
   ]
  },
  {
   "cell_type": "code",
   "execution_count": 155,
   "metadata": {},
   "outputs": [
    {
     "data": {
      "text/plain": [
       "array(['Built-up  Area', 'Carpet  Area', 'Plot  Area',\n",
       "       'Super built-up  Area'], dtype=object)"
      ]
     },
     "execution_count": 155,
     "metadata": {},
     "output_type": "execute_result"
    }
   ],
   "source": [
    "col1"
   ]
  },
  {
   "cell_type": "code",
   "execution_count": 53,
   "metadata": {},
   "outputs": [],
   "source": [
    "cols=list(X.columns.values)"
   ]
  },
  {
   "cell_type": "code",
   "execution_count": 185,
   "metadata": {},
   "outputs": [
    {
     "data": {
      "text/plain": [
       "256"
      ]
     },
     "execution_count": 185,
     "metadata": {},
     "output_type": "execute_result"
    }
   ],
   "source": [
    "len(cols)"
   ]
  },
  {
   "cell_type": "code",
   "execution_count": 172,
   "metadata": {},
   "outputs": [
    {
     "data": {
      "text/plain": [
       "3"
      ]
     },
     "execution_count": 172,
     "metadata": {},
     "output_type": "execute_result"
    }
   ],
   "source": [
    "np.where(col1=='Super built-up  Area')[0][0]"
   ]
  },
  {
   "cell_type": "code",
   "execution_count": 51,
   "metadata": {},
   "outputs": [],
   "source": [
    "def predict_price(location,sqft,bath,bal,bhk,area):    \n",
    "    x = np.zeros(len(cols))\n",
    "    x[0] = bhk\n",
    "    x[1] = sqft\n",
    "    x[2] = bath\n",
    "    X[3] = bal\n",
    "    x[4+np.where(col1==area)[0][0]]=1\n",
    "    if location in col2:\n",
    "        x[8+np.where(col2==location)[0][0]]=1\n",
    "    else:\n",
    "        x[255]=1\n",
    "    return lr_clf.predict([x])[0]"
   ]
  },
  {
   "cell_type": "code",
   "execution_count": 263,
   "metadata": {},
   "outputs": [
    {
     "data": {
      "text/plain": [
       "188.66969999999998"
      ]
     },
     "execution_count": 263,
     "metadata": {},
     "output_type": "execute_result"
    }
   ],
   "source": [
    "predict_price('Brookefield',1500,4,1,2,'Carpet  Area')\n",
    "#np.where(cols==3)[0].shape[0]"
   ]
  },
  {
   "cell_type": "code",
   "execution_count": 640,
   "metadata": {},
   "outputs": [],
   "source": [
    "from sklearn.linear_model import LinearRegression\n",
    "from sklearn.model_selection import GridSearchCV\n",
    "from sklearn.linear_model import Lasso\n",
    "from sklearn.svm import SVR\n",
    "from sklearn.ensemble import RandomForestRegressor\n",
    "from sklearn.tree import DecisionTreeRegressor\n",
    "from sklearn.model_selection import ShuffleSplit\n",
    "from sklearn.model_selection import cross_val_score\n",
    "from sklearn.preprocessing import MinMaxScaler"
   ]
  },
  {
   "cell_type": "code",
   "execution_count": 764,
   "metadata": {},
   "outputs": [
    {
     "data": {
      "text/plain": [
       "RandomForestRegressor()"
      ]
     },
     "execution_count": 764,
     "metadata": {},
     "output_type": "execute_result"
    }
   ],
   "source": [
    "mod=RandomForestRegressor()\n",
    "mod.fit(X,y)"
   ]
  },
  {
   "cell_type": "code",
   "execution_count": 51,
   "metadata": {},
   "outputs": [
    {
     "data": {
      "text/plain": [
       "2.0    3021\n",
       "1.0    2933\n",
       "3.0     794\n",
       "0.0     516\n",
       "Name: balcony, dtype: int64"
      ]
     },
     "execution_count": 51,
     "metadata": {},
     "output_type": "execute_result"
    }
   ],
   "source": [
    "X.balcony.value_counts()"
   ]
  },
  {
   "cell_type": "code",
   "execution_count": 56,
   "metadata": {
    "scrolled": false
   },
   "outputs": [
    {
     "data": {
      "text/html": [
       "<div>\n",
       "<style scoped>\n",
       "    .dataframe tbody tr th:only-of-type {\n",
       "        vertical-align: middle;\n",
       "    }\n",
       "\n",
       "    .dataframe tbody tr th {\n",
       "        vertical-align: top;\n",
       "    }\n",
       "\n",
       "    .dataframe thead th {\n",
       "        text-align: right;\n",
       "    }\n",
       "</style>\n",
       "<table border=\"1\" class=\"dataframe\">\n",
       "  <thead>\n",
       "    <tr style=\"text-align: right;\">\n",
       "      <th></th>\n",
       "      <th>area_type</th>\n",
       "      <th>availability</th>\n",
       "      <th>location</th>\n",
       "      <th>size</th>\n",
       "      <th>society</th>\n",
       "      <th>total_sqft</th>\n",
       "      <th>bath</th>\n",
       "      <th>balcony</th>\n",
       "      <th>price</th>\n",
       "    </tr>\n",
       "  </thead>\n",
       "  <tbody>\n",
       "    <tr>\n",
       "      <th>0</th>\n",
       "      <td>Super built-up  Area</td>\n",
       "      <td>Ready To Move</td>\n",
       "      <td>Brookefield</td>\n",
       "      <td>2 BHK</td>\n",
       "      <td>Roeekbl</td>\n",
       "      <td>1225</td>\n",
       "      <td>2.0</td>\n",
       "      <td>2.0</td>\n",
       "      <td>NaN</td>\n",
       "    </tr>\n",
       "    <tr>\n",
       "      <th>1</th>\n",
       "      <td>Plot  Area</td>\n",
       "      <td>Ready To Move</td>\n",
       "      <td>Akshaya Nagar</td>\n",
       "      <td>9 Bedroom</td>\n",
       "      <td>NaN</td>\n",
       "      <td>2400</td>\n",
       "      <td>9.0</td>\n",
       "      <td>2.0</td>\n",
       "      <td>NaN</td>\n",
       "    </tr>\n",
       "    <tr>\n",
       "      <th>2</th>\n",
       "      <td>Plot  Area</td>\n",
       "      <td>18-Apr</td>\n",
       "      <td>Hennur Road</td>\n",
       "      <td>4 Bedroom</td>\n",
       "      <td>Saandtt</td>\n",
       "      <td>1650</td>\n",
       "      <td>5.0</td>\n",
       "      <td>2.0</td>\n",
       "      <td>NaN</td>\n",
       "    </tr>\n",
       "    <tr>\n",
       "      <th>3</th>\n",
       "      <td>Super built-up  Area</td>\n",
       "      <td>Ready To Move</td>\n",
       "      <td>Kodichikkanahalli</td>\n",
       "      <td>3 BHK</td>\n",
       "      <td>Winerri</td>\n",
       "      <td>1322</td>\n",
       "      <td>3.0</td>\n",
       "      <td>1.0</td>\n",
       "      <td>NaN</td>\n",
       "    </tr>\n",
       "    <tr>\n",
       "      <th>4</th>\n",
       "      <td>Super built-up  Area</td>\n",
       "      <td>Ready To Move</td>\n",
       "      <td>Konanakunte</td>\n",
       "      <td>2 BHK</td>\n",
       "      <td>AmageSa</td>\n",
       "      <td>1161</td>\n",
       "      <td>2.0</td>\n",
       "      <td>1.0</td>\n",
       "      <td>NaN</td>\n",
       "    </tr>\n",
       "  </tbody>\n",
       "</table>\n",
       "</div>"
      ],
      "text/plain": [
       "              area_type   availability           location       size  society  \\\n",
       "0  Super built-up  Area  Ready To Move        Brookefield      2 BHK  Roeekbl   \n",
       "1            Plot  Area  Ready To Move      Akshaya Nagar  9 Bedroom      NaN   \n",
       "2            Plot  Area         18-Apr        Hennur Road  4 Bedroom  Saandtt   \n",
       "3  Super built-up  Area  Ready To Move  Kodichikkanahalli      3 BHK  Winerri   \n",
       "4  Super built-up  Area  Ready To Move        Konanakunte      2 BHK  AmageSa   \n",
       "\n",
       "  total_sqft  bath  balcony  price  \n",
       "0       1225   2.0      2.0    NaN  \n",
       "1       2400   9.0      2.0    NaN  \n",
       "2       1650   5.0      2.0    NaN  \n",
       "3       1322   3.0      1.0    NaN  \n",
       "4       1161   2.0      1.0    NaN  "
      ]
     },
     "execution_count": 56,
     "metadata": {},
     "output_type": "execute_result"
    }
   ],
   "source": [
    "test=pd.read_csv('C:\\\\Users\\\\BHASWANTH REDDY\\\\Desktop\\\\BangloreHack\\\\Data\\\\test.csv')\n",
    "test.head()"
   ]
  },
  {
   "cell_type": "code",
   "execution_count": 159,
   "metadata": {},
   "outputs": [
    {
     "data": {
      "text/plain": [
       "75.0"
      ]
     },
     "execution_count": 159,
     "metadata": {},
     "output_type": "execute_result"
    }
   ],
   "source": [
    "predict_price('Brookefield',1500,2,1,2,'Super built-up  Area')"
   ]
  },
  {
   "cell_type": "code",
   "execution_count": 57,
   "metadata": {
    "scrolled": true
   },
   "outputs": [
    {
     "data": {
      "text/html": [
       "<div>\n",
       "<style scoped>\n",
       "    .dataframe tbody tr th:only-of-type {\n",
       "        vertical-align: middle;\n",
       "    }\n",
       "\n",
       "    .dataframe tbody tr th {\n",
       "        vertical-align: top;\n",
       "    }\n",
       "\n",
       "    .dataframe thead th {\n",
       "        text-align: right;\n",
       "    }\n",
       "</style>\n",
       "<table border=\"1\" class=\"dataframe\">\n",
       "  <thead>\n",
       "    <tr style=\"text-align: right;\">\n",
       "      <th></th>\n",
       "      <th>area_type</th>\n",
       "      <th>availability</th>\n",
       "      <th>location</th>\n",
       "      <th>size</th>\n",
       "      <th>total_sqft</th>\n",
       "      <th>bath</th>\n",
       "      <th>balcony</th>\n",
       "    </tr>\n",
       "  </thead>\n",
       "  <tbody>\n",
       "    <tr>\n",
       "      <th>0</th>\n",
       "      <td>Super built-up  Area</td>\n",
       "      <td>Ready To Move</td>\n",
       "      <td>Brookefield</td>\n",
       "      <td>2 BHK</td>\n",
       "      <td>1225</td>\n",
       "      <td>2.0</td>\n",
       "      <td>2.0</td>\n",
       "    </tr>\n",
       "    <tr>\n",
       "      <th>1</th>\n",
       "      <td>Plot  Area</td>\n",
       "      <td>Ready To Move</td>\n",
       "      <td>Akshaya Nagar</td>\n",
       "      <td>9 Bedroom</td>\n",
       "      <td>2400</td>\n",
       "      <td>9.0</td>\n",
       "      <td>2.0</td>\n",
       "    </tr>\n",
       "    <tr>\n",
       "      <th>2</th>\n",
       "      <td>Plot  Area</td>\n",
       "      <td>18-Apr</td>\n",
       "      <td>Hennur Road</td>\n",
       "      <td>4 Bedroom</td>\n",
       "      <td>1650</td>\n",
       "      <td>5.0</td>\n",
       "      <td>2.0</td>\n",
       "    </tr>\n",
       "    <tr>\n",
       "      <th>3</th>\n",
       "      <td>Super built-up  Area</td>\n",
       "      <td>Ready To Move</td>\n",
       "      <td>Kodichikkanahalli</td>\n",
       "      <td>3 BHK</td>\n",
       "      <td>1322</td>\n",
       "      <td>3.0</td>\n",
       "      <td>1.0</td>\n",
       "    </tr>\n",
       "    <tr>\n",
       "      <th>4</th>\n",
       "      <td>Super built-up  Area</td>\n",
       "      <td>Ready To Move</td>\n",
       "      <td>Konanakunte</td>\n",
       "      <td>2 BHK</td>\n",
       "      <td>1161</td>\n",
       "      <td>2.0</td>\n",
       "      <td>1.0</td>\n",
       "    </tr>\n",
       "  </tbody>\n",
       "</table>\n",
       "</div>"
      ],
      "text/plain": [
       "              area_type   availability           location       size  \\\n",
       "0  Super built-up  Area  Ready To Move        Brookefield      2 BHK   \n",
       "1            Plot  Area  Ready To Move      Akshaya Nagar  9 Bedroom   \n",
       "2            Plot  Area         18-Apr        Hennur Road  4 Bedroom   \n",
       "3  Super built-up  Area  Ready To Move  Kodichikkanahalli      3 BHK   \n",
       "4  Super built-up  Area  Ready To Move        Konanakunte      2 BHK   \n",
       "\n",
       "  total_sqft  bath  balcony  \n",
       "0       1225   2.0      2.0  \n",
       "1       2400   9.0      2.0  \n",
       "2       1650   5.0      2.0  \n",
       "3       1322   3.0      1.0  \n",
       "4       1161   2.0      1.0  "
      ]
     },
     "execution_count": 57,
     "metadata": {},
     "output_type": "execute_result"
    }
   ],
   "source": [
    "tes=test.drop(columns=['society','price'],axis=1)\n",
    "tes.head()"
   ]
  },
  {
   "cell_type": "code",
   "execution_count": 196,
   "metadata": {
    "scrolled": false
   },
   "outputs": [
    {
     "data": {
      "text/plain": [
       "area_type       0\n",
       "availability    0\n",
       "location        0\n",
       "size            0\n",
       "total_sqft      0\n",
       "bath            0\n",
       "balcony         0\n",
       "dtype: int64"
      ]
     },
     "execution_count": 196,
     "metadata": {},
     "output_type": "execute_result"
    }
   ],
   "source": [
    "tes.isnull().sum()"
   ]
  },
  {
   "cell_type": "code",
   "execution_count": 58,
   "metadata": {},
   "outputs": [],
   "source": [
    "tes['size']=tes['size'].fillna('2 b')\n",
    "tes['bath']=tes['bath'].fillna(2.0)\n",
    "tes['balcony']=tes['balcony'].fillna(2.0)"
   ]
  },
  {
   "cell_type": "code",
   "execution_count": 59,
   "metadata": {
    "scrolled": false
   },
   "outputs": [
    {
     "data": {
      "text/html": [
       "<div>\n",
       "<style scoped>\n",
       "    .dataframe tbody tr th:only-of-type {\n",
       "        vertical-align: middle;\n",
       "    }\n",
       "\n",
       "    .dataframe tbody tr th {\n",
       "        vertical-align: top;\n",
       "    }\n",
       "\n",
       "    .dataframe thead th {\n",
       "        text-align: right;\n",
       "    }\n",
       "</style>\n",
       "<table border=\"1\" class=\"dataframe\">\n",
       "  <thead>\n",
       "    <tr style=\"text-align: right;\">\n",
       "      <th></th>\n",
       "      <th>area_type</th>\n",
       "      <th>availability</th>\n",
       "      <th>location</th>\n",
       "      <th>size</th>\n",
       "      <th>total_sqft</th>\n",
       "      <th>bath</th>\n",
       "      <th>balcony</th>\n",
       "    </tr>\n",
       "  </thead>\n",
       "  <tbody>\n",
       "    <tr>\n",
       "      <th>0</th>\n",
       "      <td>Super built-up  Area</td>\n",
       "      <td>Ready To Move</td>\n",
       "      <td>Brookefield</td>\n",
       "      <td>2</td>\n",
       "      <td>1225</td>\n",
       "      <td>2.0</td>\n",
       "      <td>2.0</td>\n",
       "    </tr>\n",
       "    <tr>\n",
       "      <th>1</th>\n",
       "      <td>Plot  Area</td>\n",
       "      <td>Ready To Move</td>\n",
       "      <td>Akshaya Nagar</td>\n",
       "      <td>9</td>\n",
       "      <td>2400</td>\n",
       "      <td>9.0</td>\n",
       "      <td>2.0</td>\n",
       "    </tr>\n",
       "    <tr>\n",
       "      <th>2</th>\n",
       "      <td>Plot  Area</td>\n",
       "      <td>18-Apr</td>\n",
       "      <td>Hennur Road</td>\n",
       "      <td>4</td>\n",
       "      <td>1650</td>\n",
       "      <td>5.0</td>\n",
       "      <td>2.0</td>\n",
       "    </tr>\n",
       "    <tr>\n",
       "      <th>3</th>\n",
       "      <td>Super built-up  Area</td>\n",
       "      <td>Ready To Move</td>\n",
       "      <td>Kodichikkanahalli</td>\n",
       "      <td>3</td>\n",
       "      <td>1322</td>\n",
       "      <td>3.0</td>\n",
       "      <td>1.0</td>\n",
       "    </tr>\n",
       "    <tr>\n",
       "      <th>4</th>\n",
       "      <td>Super built-up  Area</td>\n",
       "      <td>Ready To Move</td>\n",
       "      <td>Konanakunte</td>\n",
       "      <td>2</td>\n",
       "      <td>1161</td>\n",
       "      <td>2.0</td>\n",
       "      <td>1.0</td>\n",
       "    </tr>\n",
       "  </tbody>\n",
       "</table>\n",
       "</div>"
      ],
      "text/plain": [
       "              area_type   availability           location  size total_sqft  \\\n",
       "0  Super built-up  Area  Ready To Move        Brookefield     2       1225   \n",
       "1            Plot  Area  Ready To Move      Akshaya Nagar     9       2400   \n",
       "2            Plot  Area         18-Apr        Hennur Road     4       1650   \n",
       "3  Super built-up  Area  Ready To Move  Kodichikkanahalli     3       1322   \n",
       "4  Super built-up  Area  Ready To Move        Konanakunte     2       1161   \n",
       "\n",
       "   bath  balcony  \n",
       "0   2.0      2.0  \n",
       "1   9.0      2.0  \n",
       "2   5.0      2.0  \n",
       "3   3.0      1.0  \n",
       "4   2.0      1.0  "
      ]
     },
     "execution_count": 59,
     "metadata": {},
     "output_type": "execute_result"
    }
   ],
   "source": [
    "tes['size'] = tes['size'].apply(lambda x: int(x.split(' ')[0]))\n",
    "tes.head()"
   ]
  },
  {
   "cell_type": "code",
   "execution_count": 60,
   "metadata": {},
   "outputs": [],
   "source": [
    "def find(arr,n):\n",
    "    t=np.where(arr==n)[0]\n",
    "    if(t.size==0):\n",
    "        return -1\n",
    "    return t[0]"
   ]
  },
  {
   "cell_type": "code",
   "execution_count": 61,
   "metadata": {},
   "outputs": [],
   "source": [
    "length1=col1.size"
   ]
  },
  {
   "cell_type": "code",
   "execution_count": 62,
   "metadata": {},
   "outputs": [],
   "source": [
    "m,n=tes.shape"
   ]
  },
  {
   "cell_type": "code",
   "execution_count": 63,
   "metadata": {},
   "outputs": [],
   "source": [
    "tes=tes.drop('availability',axis=1)"
   ]
  },
  {
   "cell_type": "code",
   "execution_count": 64,
   "metadata": {
    "scrolled": true
   },
   "outputs": [
    {
     "data": {
      "text/html": [
       "<div>\n",
       "<style scoped>\n",
       "    .dataframe tbody tr th:only-of-type {\n",
       "        vertical-align: middle;\n",
       "    }\n",
       "\n",
       "    .dataframe tbody tr th {\n",
       "        vertical-align: top;\n",
       "    }\n",
       "\n",
       "    .dataframe thead th {\n",
       "        text-align: right;\n",
       "    }\n",
       "</style>\n",
       "<table border=\"1\" class=\"dataframe\">\n",
       "  <thead>\n",
       "    <tr style=\"text-align: right;\">\n",
       "      <th></th>\n",
       "      <th>area_type</th>\n",
       "      <th>location</th>\n",
       "      <th>size</th>\n",
       "      <th>total_sqft</th>\n",
       "      <th>bath</th>\n",
       "      <th>balcony</th>\n",
       "    </tr>\n",
       "  </thead>\n",
       "  <tbody>\n",
       "    <tr>\n",
       "      <th>0</th>\n",
       "      <td>Super built-up  Area</td>\n",
       "      <td>Brookefield</td>\n",
       "      <td>2</td>\n",
       "      <td>1225</td>\n",
       "      <td>2.0</td>\n",
       "      <td>2.0</td>\n",
       "    </tr>\n",
       "    <tr>\n",
       "      <th>1</th>\n",
       "      <td>Plot  Area</td>\n",
       "      <td>Akshaya Nagar</td>\n",
       "      <td>9</td>\n",
       "      <td>2400</td>\n",
       "      <td>9.0</td>\n",
       "      <td>2.0</td>\n",
       "    </tr>\n",
       "    <tr>\n",
       "      <th>2</th>\n",
       "      <td>Plot  Area</td>\n",
       "      <td>Hennur Road</td>\n",
       "      <td>4</td>\n",
       "      <td>1650</td>\n",
       "      <td>5.0</td>\n",
       "      <td>2.0</td>\n",
       "    </tr>\n",
       "    <tr>\n",
       "      <th>3</th>\n",
       "      <td>Super built-up  Area</td>\n",
       "      <td>Kodichikkanahalli</td>\n",
       "      <td>3</td>\n",
       "      <td>1322</td>\n",
       "      <td>3.0</td>\n",
       "      <td>1.0</td>\n",
       "    </tr>\n",
       "    <tr>\n",
       "      <th>4</th>\n",
       "      <td>Super built-up  Area</td>\n",
       "      <td>Konanakunte</td>\n",
       "      <td>2</td>\n",
       "      <td>1161</td>\n",
       "      <td>2.0</td>\n",
       "      <td>1.0</td>\n",
       "    </tr>\n",
       "  </tbody>\n",
       "</table>\n",
       "</div>"
      ],
      "text/plain": [
       "              area_type           location  size total_sqft  bath  balcony\n",
       "0  Super built-up  Area        Brookefield     2       1225   2.0      2.0\n",
       "1            Plot  Area      Akshaya Nagar     9       2400   9.0      2.0\n",
       "2            Plot  Area        Hennur Road     4       1650   5.0      2.0\n",
       "3  Super built-up  Area  Kodichikkanahalli     3       1322   3.0      1.0\n",
       "4  Super built-up  Area        Konanakunte     2       1161   2.0      1.0"
      ]
     },
     "execution_count": 64,
     "metadata": {},
     "output_type": "execute_result"
    }
   ],
   "source": [
    "tes.head()"
   ]
  },
  {
   "cell_type": "code",
   "execution_count": 65,
   "metadata": {},
   "outputs": [],
   "source": [
    "tes.total_sqft = tes.total_sqft.apply(convert_sqft_to_num)\n",
    "#df4 = df4[df4.total_sqft.notnull()]\n"
   ]
  },
  {
   "cell_type": "code",
   "execution_count": 66,
   "metadata": {
    "scrolled": true
   },
   "outputs": [
    {
     "data": {
      "text/html": [
       "<div>\n",
       "<style scoped>\n",
       "    .dataframe tbody tr th:only-of-type {\n",
       "        vertical-align: middle;\n",
       "    }\n",
       "\n",
       "    .dataframe tbody tr th {\n",
       "        vertical-align: top;\n",
       "    }\n",
       "\n",
       "    .dataframe thead th {\n",
       "        text-align: right;\n",
       "    }\n",
       "</style>\n",
       "<table border=\"1\" class=\"dataframe\">\n",
       "  <thead>\n",
       "    <tr style=\"text-align: right;\">\n",
       "      <th></th>\n",
       "      <th>area_type</th>\n",
       "      <th>location</th>\n",
       "      <th>size</th>\n",
       "      <th>total_sqft</th>\n",
       "      <th>bath</th>\n",
       "      <th>balcony</th>\n",
       "    </tr>\n",
       "  </thead>\n",
       "  <tbody>\n",
       "    <tr>\n",
       "      <th>0</th>\n",
       "      <td>Super built-up  Area</td>\n",
       "      <td>Brookefield</td>\n",
       "      <td>2</td>\n",
       "      <td>1225.0</td>\n",
       "      <td>2.0</td>\n",
       "      <td>2.0</td>\n",
       "    </tr>\n",
       "    <tr>\n",
       "      <th>1</th>\n",
       "      <td>Plot  Area</td>\n",
       "      <td>Akshaya Nagar</td>\n",
       "      <td>9</td>\n",
       "      <td>2400.0</td>\n",
       "      <td>9.0</td>\n",
       "      <td>2.0</td>\n",
       "    </tr>\n",
       "    <tr>\n",
       "      <th>2</th>\n",
       "      <td>Plot  Area</td>\n",
       "      <td>Hennur Road</td>\n",
       "      <td>4</td>\n",
       "      <td>1650.0</td>\n",
       "      <td>5.0</td>\n",
       "      <td>2.0</td>\n",
       "    </tr>\n",
       "    <tr>\n",
       "      <th>3</th>\n",
       "      <td>Super built-up  Area</td>\n",
       "      <td>Kodichikkanahalli</td>\n",
       "      <td>3</td>\n",
       "      <td>1322.0</td>\n",
       "      <td>3.0</td>\n",
       "      <td>1.0</td>\n",
       "    </tr>\n",
       "    <tr>\n",
       "      <th>4</th>\n",
       "      <td>Super built-up  Area</td>\n",
       "      <td>Konanakunte</td>\n",
       "      <td>2</td>\n",
       "      <td>1161.0</td>\n",
       "      <td>2.0</td>\n",
       "      <td>1.0</td>\n",
       "    </tr>\n",
       "  </tbody>\n",
       "</table>\n",
       "</div>"
      ],
      "text/plain": [
       "              area_type           location  size  total_sqft  bath  balcony\n",
       "0  Super built-up  Area        Brookefield     2      1225.0   2.0      2.0\n",
       "1            Plot  Area      Akshaya Nagar     9      2400.0   9.0      2.0\n",
       "2            Plot  Area        Hennur Road     4      1650.0   5.0      2.0\n",
       "3  Super built-up  Area  Kodichikkanahalli     3      1322.0   3.0      1.0\n",
       "4  Super built-up  Area        Konanakunte     2      1161.0   2.0      1.0"
      ]
     },
     "execution_count": 66,
     "metadata": {},
     "output_type": "execute_result"
    }
   ],
   "source": [
    "tes.head()"
   ]
  },
  {
   "cell_type": "code",
   "execution_count": 67,
   "metadata": {
    "scrolled": true
   },
   "outputs": [
    {
     "name": "stderr",
     "output_type": "stream",
     "text": [
      "C:\\ProgramData\\Anaconda3\\lib\\site-packages\\ipykernel_launcher.py:1: SettingWithCopyWarning: \n",
      "A value is trying to be set on a copy of a slice from a DataFrame\n",
      "\n",
      "See the caveats in the documentation: https://pandas.pydata.org/pandas-docs/stable/user_guide/indexing.html#returning-a-view-versus-a-copy\n",
      "  \"\"\"Entry point for launching an IPython kernel.\n",
      "C:\\ProgramData\\Anaconda3\\lib\\site-packages\\ipykernel_launcher.py:2: SettingWithCopyWarning: \n",
      "A value is trying to be set on a copy of a slice from a DataFrame\n",
      "\n",
      "See the caveats in the documentation: https://pandas.pydata.org/pandas-docs/stable/user_guide/indexing.html#returning-a-view-versus-a-copy\n",
      "  \n"
     ]
    }
   ],
   "source": [
    "tes.total_sqft[874]=100\n",
    "tes.total_sqft[325]=20234.282"
   ]
  },
  {
   "cell_type": "code",
   "execution_count": 236,
   "metadata": {
    "scrolled": false
   },
   "outputs": [
    {
     "data": {
      "text/html": [
       "<div>\n",
       "<style scoped>\n",
       "    .dataframe tbody tr th:only-of-type {\n",
       "        vertical-align: middle;\n",
       "    }\n",
       "\n",
       "    .dataframe tbody tr th {\n",
       "        vertical-align: top;\n",
       "    }\n",
       "\n",
       "    .dataframe thead th {\n",
       "        text-align: right;\n",
       "    }\n",
       "</style>\n",
       "<table border=\"1\" class=\"dataframe\">\n",
       "  <thead>\n",
       "    <tr style=\"text-align: right;\">\n",
       "      <th></th>\n",
       "      <th>area_type</th>\n",
       "      <th>location</th>\n",
       "      <th>size</th>\n",
       "      <th>total_sqft</th>\n",
       "      <th>bath</th>\n",
       "      <th>balcony</th>\n",
       "    </tr>\n",
       "  </thead>\n",
       "  <tbody>\n",
       "  </tbody>\n",
       "</table>\n",
       "</div>"
      ],
      "text/plain": [
       "Empty DataFrame\n",
       "Columns: [area_type, location, size, total_sqft, bath, balcony]\n",
       "Index: []"
      ]
     },
     "execution_count": 236,
     "metadata": {},
     "output_type": "execute_result"
    }
   ],
   "source": [
    "tes[tes.total_sqft.isna()]\n"
   ]
  },
  {
   "cell_type": "code",
   "execution_count": 215,
   "metadata": {},
   "outputs": [
    {
     "data": {
      "text/html": [
       "<div>\n",
       "<style scoped>\n",
       "    .dataframe tbody tr th:only-of-type {\n",
       "        vertical-align: middle;\n",
       "    }\n",
       "\n",
       "    .dataframe tbody tr th {\n",
       "        vertical-align: top;\n",
       "    }\n",
       "\n",
       "    .dataframe thead th {\n",
       "        text-align: right;\n",
       "    }\n",
       "</style>\n",
       "<table border=\"1\" class=\"dataframe\">\n",
       "  <thead>\n",
       "    <tr style=\"text-align: right;\">\n",
       "      <th></th>\n",
       "      <th>area_type</th>\n",
       "      <th>location</th>\n",
       "      <th>size</th>\n",
       "      <th>total_sqft</th>\n",
       "      <th>bath</th>\n",
       "      <th>balcony</th>\n",
       "    </tr>\n",
       "  </thead>\n",
       "  <tbody>\n",
       "    <tr>\n",
       "      <th>0</th>\n",
       "      <td>Super built-up  Area</td>\n",
       "      <td>Brookefield</td>\n",
       "      <td>2</td>\n",
       "      <td>1225.0</td>\n",
       "      <td>2.0</td>\n",
       "      <td>2.0</td>\n",
       "    </tr>\n",
       "    <tr>\n",
       "      <th>1</th>\n",
       "      <td>Plot  Area</td>\n",
       "      <td>Akshaya Nagar</td>\n",
       "      <td>9</td>\n",
       "      <td>2400.0</td>\n",
       "      <td>9.0</td>\n",
       "      <td>2.0</td>\n",
       "    </tr>\n",
       "    <tr>\n",
       "      <th>2</th>\n",
       "      <td>Plot  Area</td>\n",
       "      <td>Hennur Road</td>\n",
       "      <td>4</td>\n",
       "      <td>1650.0</td>\n",
       "      <td>5.0</td>\n",
       "      <td>2.0</td>\n",
       "    </tr>\n",
       "    <tr>\n",
       "      <th>3</th>\n",
       "      <td>Super built-up  Area</td>\n",
       "      <td>Kodichikkanahalli</td>\n",
       "      <td>3</td>\n",
       "      <td>1322.0</td>\n",
       "      <td>3.0</td>\n",
       "      <td>1.0</td>\n",
       "    </tr>\n",
       "    <tr>\n",
       "      <th>4</th>\n",
       "      <td>Super built-up  Area</td>\n",
       "      <td>Konanakunte</td>\n",
       "      <td>2</td>\n",
       "      <td>1161.0</td>\n",
       "      <td>2.0</td>\n",
       "      <td>1.0</td>\n",
       "    </tr>\n",
       "  </tbody>\n",
       "</table>\n",
       "</div>"
      ],
      "text/plain": [
       "              area_type           location  size  total_sqft  bath  balcony\n",
       "0  Super built-up  Area        Brookefield     2      1225.0   2.0      2.0\n",
       "1            Plot  Area      Akshaya Nagar     9      2400.0   9.0      2.0\n",
       "2            Plot  Area        Hennur Road     4      1650.0   5.0      2.0\n",
       "3  Super built-up  Area  Kodichikkanahalli     3      1322.0   3.0      1.0\n",
       "4  Super built-up  Area        Konanakunte     2      1161.0   2.0      1.0"
      ]
     },
     "execution_count": 215,
     "metadata": {},
     "output_type": "execute_result"
    }
   ],
   "source": [
    "tes.head()"
   ]
  },
  {
   "cell_type": "code",
   "execution_count": 405,
   "metadata": {},
   "outputs": [
    {
     "data": {
      "text/plain": [
       "'Brookefield'"
      ]
     },
     "execution_count": 405,
     "metadata": {},
     "output_type": "execute_result"
    }
   ],
   "source": [
    "X.shape\n",
    "loc[0]"
   ]
  },
  {
   "cell_type": "code",
   "execution_count": 252,
   "metadata": {},
   "outputs": [
    {
     "data": {
      "text/html": [
       "<div>\n",
       "<style scoped>\n",
       "    .dataframe tbody tr th:only-of-type {\n",
       "        vertical-align: middle;\n",
       "    }\n",
       "\n",
       "    .dataframe tbody tr th {\n",
       "        vertical-align: top;\n",
       "    }\n",
       "\n",
       "    .dataframe thead th {\n",
       "        text-align: right;\n",
       "    }\n",
       "</style>\n",
       "<table border=\"1\" class=\"dataframe\">\n",
       "  <thead>\n",
       "    <tr style=\"text-align: right;\">\n",
       "      <th></th>\n",
       "      <th>price</th>\n",
       "    </tr>\n",
       "  </thead>\n",
       "  <tbody>\n",
       "    <tr>\n",
       "      <th>0</th>\n",
       "      <td>75.985575</td>\n",
       "    </tr>\n",
       "    <tr>\n",
       "      <th>1</th>\n",
       "      <td>336.526080</td>\n",
       "    </tr>\n",
       "    <tr>\n",
       "      <th>2</th>\n",
       "      <td>230.868331</td>\n",
       "    </tr>\n",
       "    <tr>\n",
       "      <th>3</th>\n",
       "      <td>49.113601</td>\n",
       "    </tr>\n",
       "    <tr>\n",
       "      <th>4</th>\n",
       "      <td>2.240535</td>\n",
       "    </tr>\n",
       "  </tbody>\n",
       "</table>\n",
       "</div>"
      ],
      "text/plain": [
       "        price\n",
       "0   75.985575\n",
       "1  336.526080\n",
       "2  230.868331\n",
       "3   49.113601\n",
       "4    2.240535"
      ]
     },
     "execution_count": 252,
     "metadata": {},
     "output_type": "execute_result"
    }
   ],
   "source": [
    "#location,sqft,bath,bal,bhk,area\n",
    "y_test=[]\n",
    "for i in range(m):\n",
    "    y_test.append(predict_price(tes.location.loc[i],tes.total_sqft.loc[i],tes.bath.loc[i],tes.balcony.loc[i],tes['size'].loc[i],tes.area_type.loc[i]))\n",
    "y_test=pd.DataFrame(data=y_test,columns=['price'])\n",
    "y_test.head()"
   ]
  },
  {
   "cell_type": "code",
   "execution_count": 253,
   "metadata": {},
   "outputs": [],
   "source": [
    "test=test.drop('price',axis=1)\n",
    "test['price']=y_test"
   ]
  },
  {
   "cell_type": "code",
   "execution_count": 254,
   "metadata": {},
   "outputs": [],
   "source": [
    "test.to_csv('C:\\\\Users\\\\BHASWANTH REDDY\\\\Desktop\\\\BangloreHack\\\\Data\\\\res.csv',index=False)"
   ]
  }
 ],
 "metadata": {
  "kernelspec": {
   "display_name": "Python 3 (ipykernel)",
   "language": "python",
   "name": "python3"
  },
  "language_info": {
   "codemirror_mode": {
    "name": "ipython",
    "version": 3
   },
   "file_extension": ".py",
   "mimetype": "text/x-python",
   "name": "python",
   "nbconvert_exporter": "python",
   "pygments_lexer": "ipython3",
   "version": "3.9.7"
  }
 },
 "nbformat": 4,
 "nbformat_minor": 4
}
